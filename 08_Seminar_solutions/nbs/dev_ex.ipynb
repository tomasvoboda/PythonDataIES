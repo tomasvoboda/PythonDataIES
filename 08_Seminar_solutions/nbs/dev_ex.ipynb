{
 "cells": [
  {
   "cell_type": "code",
   "execution_count": 14,
   "metadata": {},
   "outputs": [],
   "source": [
    "from typing import List\n",
    "\n",
    "import json\n",
    "import yaml\n",
    "\n",
    "from src.processing import (\n",
    "    get_meals,\n",
    "    process_meals\n",
    ")"
   ]
  },
  {
   "cell_type": "code",
   "execution_count": 18,
   "metadata": {},
   "outputs": [],
   "source": [
    "with open('config.yaml', 'r') as file:\n",
    "    config = yaml.safe_load(file)"
   ]
  },
  {
   "cell_type": "code",
   "execution_count": 20,
   "metadata": {},
   "outputs": [
    {
     "data": {
      "text/plain": [
       "{'letters': ['a', 'b', 'c', 'e'],\n",
       " 'raw_path': 'data/meals_raw.json',\n",
       " 'processed_path': 'data/meals_processed.json'}"
      ]
     },
     "execution_count": 20,
     "metadata": {},
     "output_type": "execute_result"
    }
   ],
   "source": [
    "config"
   ]
  },
  {
   "cell_type": "code",
   "execution_count": 13,
   "metadata": {},
   "outputs": [],
   "source": [
    "LETTERS = ['a','b','c','e']\n",
    "RAW_PATH = 'data/meals_raw.json'\n",
    "PROCESSED_PATH = 'data/meals_processed.json'"
   ]
  },
  {
   "cell_type": "code",
   "execution_count": 3,
   "metadata": {},
   "outputs": [],
   "source": [
    "meals_raw = get_meals(letters = config['letters'])\n",
    "\n",
    "with open(config['raw_path'], 'w') as f:\n",
    "    json.dump(meals_raw, f)"
   ]
  },
  {
   "cell_type": "code",
   "execution_count": 22,
   "metadata": {},
   "outputs": [
    {
     "name": "stdout",
     "output_type": "stream",
     "text": [
      "53\n",
      "['idMeal', 'strMeal', 'strDrinkAlternate', 'strCategory', 'strArea', 'strInstructions', 'strMealThumb', 'strTags', 'strYoutube', 'strSource', 'strImageSource', 'strCreativeCommonsConfirmed', 'dateModified']\n"
     ]
    }
   ],
   "source": [
    "# look at meal attributes\n",
    "meal_attributes = meals_raw['b'][0].keys()\n",
    "\n",
    "print(len(meal_attributes))\n",
    "\n",
    "# identify ingredients and measurements\n",
    "ingredients = [a for a in meal_attributes if 'Ingredient' in a]\n",
    "measures = [a for a in meal_attributes if 'Measure' in a]\n",
    "\n",
    "assert len(ingredients) == len(measures), \"Ingredients and measures don't match.\"\n",
    "\n",
    "core_attributes = [a for a in meal_attributes if a not in ingredients + measures]\n",
    "print(core_attributes)"
   ]
  },
  {
   "cell_type": "code",
   "execution_count": 23,
   "metadata": {},
   "outputs": [],
   "source": [
    "meals_processed = process_meals(meals_raw = meals_raw)"
   ]
  },
  {
   "cell_type": "code",
   "execution_count": null,
   "metadata": {},
   "outputs": [],
   "source": [
    "with open(config['processed_path'], 'w') as f:\n",
    "    json.dump(meals_processed, f)"
   ]
  }
 ],
 "metadata": {
  "kernelspec": {
   "display_name": "Python 3",
   "language": "python",
   "name": "python3"
  },
  "language_info": {
   "codemirror_mode": {
    "name": "ipython",
    "version": 3
   },
   "file_extension": ".py",
   "mimetype": "text/x-python",
   "name": "python",
   "nbconvert_exporter": "python",
   "pygments_lexer": "ipython3",
   "version": "3.8.10"
  },
  "orig_nbformat": 4
 },
 "nbformat": 4,
 "nbformat_minor": 2
}
