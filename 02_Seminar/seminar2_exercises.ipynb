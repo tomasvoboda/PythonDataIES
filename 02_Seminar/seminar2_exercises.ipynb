{
 "cells": [
  {
   "attachments": {},
   "cell_type": "markdown",
   "metadata": {},
   "source": [
    "# Seminar 1\n",
    "\n",
    "by Martin Hronec\n",
    "\n",
    "(27th of February)"
   ]
  },
  {
   "attachments": {},
   "cell_type": "markdown",
   "metadata": {},
   "source": [
    "### input\n",
    "* prompt the user for their name and age \n",
    "* then calculate the year in which the user will turn 100 years old and print the result.\n",
    "\n",
    "```\n",
    "What is your name? John\n",
    "What is your age? 30\n",
    "John, you will turn 100 years old in the year 2090.\n",
    "```\n",
    "\n",
    "**Hint** use `input()` and `datetime.datetime.now()` methods"
   ]
  },
  {
   "cell_type": "code",
   "execution_count": 1,
   "metadata": {},
   "outputs": [],
   "source": [
    "import datetime"
   ]
  },
  {
   "cell_type": "code",
   "execution_count": 12,
   "metadata": {},
   "outputs": [
    {
     "name": "stdout",
     "output_type": "stream",
     "text": [
      "Tomas will turns out 100 years old in the year 2100.\n"
     ]
    }
   ],
   "source": [
    "# Promt for name and age\n",
    "name = input(\"What is your name?\")\n",
    "age = int(input(\"what is your age?\"))\n",
    "\n",
    "#Calculate the year of turning 100 \n",
    "current_year = datetime.datetime.now().year\n",
    "years_until_100 = 100 - age\n",
    "year_of_100_birthday = current_year + years_until_100\n",
    "\n",
    "# Print the result\n",
    "print(f\"{name} will turns out 100 years old in the year {year_of_100_birthday}.\")\n"
   ]
  },
  {
   "attachments": {},
   "cell_type": "markdown",
   "metadata": {},
   "source": [
    "### For loops\n",
    "* print multiplication table from 1 to 10"
   ]
  },
  {
   "cell_type": "code",
   "execution_count": 15,
   "metadata": {},
   "outputs": [
    {
     "name": "stdout",
     "output_type": "stream",
     "text": [
      "1 x 1 = 1\n",
      "1 x 2 = 2\n",
      "1 x 3 = 3\n",
      "1 x 4 = 4\n",
      "1 x 5 = 5\n",
      "1 x 6 = 6\n",
      "1 x 7 = 7\n",
      "1 x 8 = 8\n",
      "1 x 9 = 9\n",
      "1 x 10 = 10\n",
      "2 x 1 = 2\n",
      "2 x 2 = 4\n",
      "2 x 3 = 6\n",
      "2 x 4 = 8\n",
      "2 x 5 = 10\n",
      "2 x 6 = 12\n",
      "2 x 7 = 14\n",
      "2 x 8 = 16\n",
      "2 x 9 = 18\n",
      "2 x 10 = 20\n",
      "3 x 1 = 3\n",
      "3 x 2 = 6\n",
      "3 x 3 = 9\n",
      "3 x 4 = 12\n",
      "3 x 5 = 15\n",
      "3 x 6 = 18\n",
      "3 x 7 = 21\n",
      "3 x 8 = 24\n",
      "3 x 9 = 27\n",
      "3 x 10 = 30\n",
      "4 x 1 = 4\n",
      "4 x 2 = 8\n",
      "4 x 3 = 12\n",
      "4 x 4 = 16\n",
      "4 x 5 = 20\n",
      "4 x 6 = 24\n",
      "4 x 7 = 28\n",
      "4 x 8 = 32\n",
      "4 x 9 = 36\n",
      "4 x 10 = 40\n",
      "5 x 1 = 5\n",
      "5 x 2 = 10\n",
      "5 x 3 = 15\n",
      "5 x 4 = 20\n",
      "5 x 5 = 25\n",
      "5 x 6 = 30\n",
      "5 x 7 = 35\n",
      "5 x 8 = 40\n",
      "5 x 9 = 45\n",
      "5 x 10 = 50\n",
      "6 x 1 = 6\n",
      "6 x 2 = 12\n",
      "6 x 3 = 18\n",
      "6 x 4 = 24\n",
      "6 x 5 = 30\n",
      "6 x 6 = 36\n",
      "6 x 7 = 42\n",
      "6 x 8 = 48\n",
      "6 x 9 = 54\n",
      "6 x 10 = 60\n",
      "7 x 1 = 7\n",
      "7 x 2 = 14\n",
      "7 x 3 = 21\n",
      "7 x 4 = 28\n",
      "7 x 5 = 35\n",
      "7 x 6 = 42\n",
      "7 x 7 = 49\n",
      "7 x 8 = 56\n",
      "7 x 9 = 63\n",
      "7 x 10 = 70\n",
      "8 x 1 = 8\n",
      "8 x 2 = 16\n",
      "8 x 3 = 24\n",
      "8 x 4 = 32\n",
      "8 x 5 = 40\n",
      "8 x 6 = 48\n",
      "8 x 7 = 56\n",
      "8 x 8 = 64\n",
      "8 x 9 = 72\n",
      "8 x 10 = 80\n",
      "9 x 1 = 9\n",
      "9 x 2 = 18\n",
      "9 x 3 = 27\n",
      "9 x 4 = 36\n",
      "9 x 5 = 45\n",
      "9 x 6 = 54\n",
      "9 x 7 = 63\n",
      "9 x 8 = 72\n",
      "9 x 9 = 81\n",
      "9 x 10 = 90\n",
      "10 x 1 = 10\n",
      "10 x 2 = 20\n",
      "10 x 3 = 30\n",
      "10 x 4 = 40\n",
      "10 x 5 = 50\n",
      "10 x 6 = 60\n",
      "10 x 7 = 70\n",
      "10 x 8 = 80\n",
      "10 x 9 = 90\n",
      "10 x 10 = 100\n"
     ]
    }
   ],
   "source": [
    "for i in range(1,11):\n",
    "    for j in range(1,11):\n",
    "        print(f\"{i} x {j} = {i*j}\")"
   ]
  },
  {
   "attachments": {},
   "cell_type": "markdown",
   "metadata": {},
   "source": [
    "### Merge dictionaries\n",
    "Create 2 different dictionaries and merge them."
   ]
  },
  {
   "cell_type": "code",
   "execution_count": 19,
   "metadata": {},
   "outputs": [
    {
     "name": "stdout",
     "output_type": "stream",
     "text": [
      "{'apple': 1, 'banana': 2, 'orange': 3, 'grape': 4, 'kiwi': 5}\n"
     ]
    }
   ],
   "source": [
    "# Create dictionaries\n",
    "dict1 = {\"apple\":1, \"banana\":2, \"orange\":3}\n",
    "dict2 = {\"grape\":4, \"kiwi\":5}\n",
    "\n",
    "# Merge them\n",
    "dict1.update(dict2)\n",
    "\n",
    "print(dict1)"
   ]
  },
  {
   "attachments": {},
   "cell_type": "markdown",
   "metadata": {},
   "source": [
    "### Conditionals\n",
    "\n",
    " Calculate income tax for the given income by adhering to the below rules:\n",
    " * first 5k, tax rate 0%\n",
    " * next 10k, tax rate 10%\n",
    " * remainning, tax rate 20%\n",
    "\n"
   ]
  },
  {
   "cell_type": "code",
   "execution_count": 24,
   "metadata": {},
   "outputs": [
    {
     "name": "stdout",
     "output_type": "stream",
     "text": [
      "Your income tax is: 15000.0\n"
     ]
    }
   ],
   "source": [
    "income = int(input(\"What is your income?\"))\n",
    "\n",
    "if income <= 5000:\n",
    "    tax_rate = 0\n",
    "    tax = 0\n",
    "elif income <= 15000:\n",
    "    tax_rate = 0.1\n",
    "    tax = (income - 5000) * tax_rate\n",
    "else:\n",
    "    tax_rate = 0.2\n",
    "    tax = (10000*0.1) + (income - 15000)*tax_rate\n",
    "\n",
    "print(f\"Your income tax is: {tax}\")"
   ]
  },
  {
   "attachments": {},
   "cell_type": "markdown",
   "metadata": {},
   "source": [
    "### Comprehensions\n",
    "\n",
    "1. Write a Python program that takes a list of numbers and creates a dictionary where the keys are the numbers and the values are their squares.\n",
    "2. Take the dictionary from the part above, and changes keys for values (and vice versa) using list comprehension.\n",
    "3. Create new dictionary by changing values from dictionary above to be strings containning original number followed with letter \"p\". Keys should remain the same."
   ]
  },
  {
   "cell_type": "code",
   "execution_count": 29,
   "metadata": {},
   "outputs": [
    {
     "name": "stdout",
     "output_type": "stream",
     "text": [
      "{1: 1, 2: 4, 3: 9, 4: 16, 5: 25}\n",
      "{1: 1, 4: 2, 9: 3, 16: 4, 25: 5}\n",
      "{1: '1p', 2: '4p', 3: '9p', 4: '16p', 5: '25p'}\n"
     ]
    }
   ],
   "source": [
    "# Part 1\n",
    "numbers = [1,2,3,4,5]\n",
    "squares_dict = {num: num ** 2 for num in numbers}\n",
    "print(squares_dict)\n",
    "\n",
    "# Part 2\n",
    "swapped_dict = {value: key for key, value in squares_dict.items()}\n",
    "print(swapped_dict)\n",
    "\n",
    "# Part 3\n",
    "string_dict = {key: str(value) + 'p' for key, value in squares_dict.items()}\n",
    "print(string_dict)"
   ]
  },
  {
   "attachments": {},
   "cell_type": "markdown",
   "metadata": {},
   "source": [
    "### Dictionary manipulation\n",
    "\n",
    "1. Create a dictionary of 1000 students. Keys should be random strings of lenght 5 containning random characters  and values should be random grades (from 1 to 5). \n",
    "**Hint**: use module `string` and module `random`\n",
    "2. Modify functionality written in the point above so that keys are random string of lengths from 3 to 10\n",
    "3. Write a program that takes a dictionary of student names and their grades from the 1st part and calculates the average grade for the class\n",
    "4. Also calculate number of times each grade has occurred."
   ]
  },
  {
   "cell_type": "code",
   "execution_count": 30,
   "metadata": {},
   "outputs": [],
   "source": [
    "import string\n",
    "import random"
   ]
  },
  {
   "cell_type": "code",
   "execution_count": 48,
   "metadata": {},
   "outputs": [
    {
     "name": "stdout",
     "output_type": "stream",
     "text": [
      "{'nphxr': 5, 'ilkih': 5, 'gyrtm': 4, 'bwbgh': 2, 'lzfay': 3, 'qsfux': 2, 'gylul': 1, 'byhzo': 5, 'wsyry': 1, 'jjjdr': 1, 'jrxkk': 2, 'ndwdb': 1, 'mteow': 2, 'adxwx': 1, 'anpyg': 3, 'itoih': 2, 'usche': 4, 'vobui': 3, 'vmutu': 4, 'uofri': 5, 'lrudt': 3, 'csfub': 2, 'noexg': 1, 'dikfi': 1, 'vpbmr': 2, 'dkxty': 2, 'drdba': 2, 'nevxa': 3, 'fgvej': 4, 'acsvv': 1, 'htwyj': 3, 'cuygi': 5, 'atawj': 5, 'isiui': 1, 'fmvvd': 4, 'mksbi': 4, 'livvx': 3, 'ymiig': 3, 'ctqfo': 5, 'rhtqm': 5, 'houwd': 2, 'lrwne': 3, 'fanez': 4, 'lpxmw': 2, 'yztra': 5, 'bddcm': 2, 'oixel': 1, 'afrjm': 4, 'ralmr': 5, 'psbfw': 2, 'kkawt': 1, 'trtwr': 1, 'rwndi': 4, 'idzhn': 3, 'dvywq': 2, 'yjjim': 5, 'cmxpe': 4, 'iijvr': 4, 'odkdm': 5, 'lxdif': 2, 'icfmu': 1, 'nxgup': 2, 'ujuio': 2, 'lomkg': 3, 'twvla': 4, 'cobas': 3, 'rlaap': 4, 'qdefj': 2, 'wnijv': 3, 'dwqtx': 5, 'hrtrf': 2, 'urcqa': 2, 'qjjwf': 3, 'hjcrd': 2, 'sfzjo': 4, 'pjfbv': 1, 'olucy': 4, 'dtkei': 3, 'ntygo': 4, 'fqikh': 2, 'wqofn': 4, 'fdaef': 1, 'wewuj': 4, 'coybj': 5, 'bwacn': 5, 'ttwih': 1, 'jenjr': 1, 'vfpey': 1, 'gzavp': 3, 'nxewb': 2, 'rcsyp': 2, 'swilt': 2, 'sdmlf': 4, 'xrpnn': 2, 'uyraw': 2, 'iifxj': 2, 'mvxow': 5, 'zanwl': 1, 'gdmqx': 2, 'gavei': 3, 'olaqv': 3, 'yigoz': 5, 'tzrhk': 4, 'repar': 3, 'gysfo': 4, 'kcrth': 5, 'zkkhx': 2, 'tysxx': 4, 'wkgza': 2, 'eyrft': 3, 'rktzm': 2, 'gkhqi': 5, 'aexzm': 3, 'mjlsh': 1, 'dclnk': 1, 'xspwc': 1, 'kchlg': 3, 'vpiku': 1, 'fmjri': 1, 'uilll': 4, 'wugfi': 1, 'qwhkp': 2, 'mzhis': 3, 'srfkr': 4, 'tvynl': 1, 'hhkpi': 1, 'duvaw': 1, 'vrlgi': 3, 'dgorv': 5, 'izmkq': 4, 'ianue': 1, 'wwjrv': 4, 'frral': 2, 'nezhc': 3, 'fexok': 2, 'hxkgy': 4, 'cvoht': 1, 'xrixo': 5, 'arhpl': 4, 'ouqax': 5, 'ovpnw': 2, 'ttzea': 3, 'crndl': 2, 'rdust': 4, 'ynemg': 4, 'dwosi': 4, 'mgknd': 3, 'gqbad': 4, 'zwsat': 5, 'yhlev': 2, 'ipujh': 1, 'slths': 4, 'ccmxi': 5, 'pooqs': 3, 'wjwho': 4, 'jyojn': 5, 'uyqyn': 3, 'eeylw': 4, 'bszmt': 4, 'gkspy': 4, 'gfzpx': 5, 'exmgv': 3, 'ettoz': 4, 'hyvby': 2, 'eoama': 2, 'mulnp': 5, 'noqts': 1, 'pynvv': 3, 'pssxi': 1, 'ochih': 1, 'fbmlj': 5, 'jwudn': 3, 'ebpmm': 1, 'jtker': 5, 'etrmm': 3, 'kvbrp': 3, 'zyzjo': 3, 'kuvft': 3, 'tfqxr': 1, 'bvodn': 1, 'sccko': 1, 'knwad': 3, 'snxjz': 1, 'fgocf': 5, 'rraga': 5, 'ijsrq': 2, 'efgcj': 5, 'ahfub': 3, 'fztlm': 5, 'yhobt': 1, 'zgllf': 5, 'suejy': 2, 'wyrxo': 1, 'tebxj': 4, 'hanth': 3, 'gmtca': 3, 'zibcv': 5, 'qialr': 4, 'kiotx': 4, 'njprd': 2, 'wqfuc': 2, 'gwdjm': 3, 'nipes': 5, 'khybd': 4, 'wswim': 2, 'uhvwu': 1, 'njfre': 3, 'jxnly': 5, 'zdxrx': 3, 'ukdvy': 5, 'ocwsi': 1, 'eqssf': 4, 'hhnvn': 5, 'syltc': 2, 'ifixd': 4, 'tkqtm': 4, 'rmfqs': 2, 'hjnwc': 4, 'yxdrf': 4, 'pafkq': 2, 'givxp': 4, 'saaco': 3, 'nzlos': 2, 'nmscq': 4, 'gzslb': 4, 'sihrs': 3, 'ocfbf': 2, 'tfuhu': 3, 'omuvn': 4, 'zaqmj': 1, 'ierww': 1, 'pmkea': 3, 'hxvfg': 4, 'apnpo': 4, 'tyjar': 3, 'ezcga': 3, 'twnjg': 1, 'rzoqt': 5, 'lwmxu': 1, 'hdtgj': 4, 'xtmrb': 4, 'zwxem': 4, 'arbvp': 4, 'peeux': 2, 'mgnxf': 5, 'iljkl': 5, 'prcfu': 1, 'cjlrj': 3, 'kokwn': 1, 'foqmb': 4, 'edjbj': 2, 'lhdkv': 4, 'quumo': 1, 'zjllc': 2, 'tovqi': 5, 'vbwde': 3, 'imjyq': 4, 'mniom': 5, 'rlrmp': 5, 'bygiq': 1, 'oruny': 2, 'qkfza': 3, 'vomgr': 1, 'pjkad': 4, 'knwcz': 3, 'vykui': 5, 'zwfha': 4, 'rprly': 5, 'uomhr': 4, 'hjjqs': 2, 'eymry': 1, 'ghsae': 1, 'qxdhe': 5, 'scdlt': 5, 'deznp': 4, 'gkuat': 5, 'rqaln': 2, 'nkvaf': 3, 'dtily': 4, 'bxaon': 5, 'dsliz': 1, 'vnyar': 3, 'ntkki': 3, 'mmisi': 1, 'ldrsr': 3, 'uynib': 4, 'rehcv': 4, 'rhyra': 1, 'yylzs': 5, 'izfzc': 3, 'vqjnd': 2, 'gbyas': 2, 'qhzed': 1, 'cxqgg': 1, 'huzrp': 2, 'frtav': 2, 'qrvgi': 2, 'uuvap': 1, 'pwrek': 4, 'gbbbh': 3, 'kdgkv': 5, 'bicwd': 5, 'gjxua': 4, 'avosr': 5, 'zdfil': 4, 'tdogw': 3, 'ttoyi': 3, 'ddpiy': 3, 'fjljt': 5, 'rdkqm': 4, 'ptyxj': 2, 'qqtol': 2, 'uyddk': 4, 'fiihs': 2, 'vbnwu': 1, 'kfcnh': 1, 'htrcn': 5, 'mbawz': 1, 'dbqzs': 4, 'hytuo': 4, 'ofpgu': 5, 'bqvix': 1, 'uzksb': 4, 'xchse': 3, 'zyvsi': 1, 'ruucw': 2, 'cfxps': 3, 'rgfhp': 5, 'xbdms': 3, 'ptwom': 4, 'mpbrd': 4, 'vtaec': 1, 'odhnr': 4, 'ikdhf': 3, 'leyfp': 3, 'rdtrb': 5, 'gfnza': 5, 'rbtjc': 1, 'mokhx': 4, 'enkvm': 2, 'uamsw': 2, 'fiidy': 2, 'samez': 2, 'gircz': 2, 'mlolm': 4, 'onofc': 2, 'fvacb': 5, 'zcytv': 2, 'ofdgm': 3, 'svmth': 1, 'hwzrk': 2, 'hltas': 5, 'rygru': 4, 'kynsf': 2, 'oybqm': 4, 'iyvdk': 2, 'dmplp': 4, 'tapgh': 1, 'zfiig': 3, 'jgqpa': 3, 'jpthy': 3, 'ckfae': 5, 'fwblw': 1, 'dskfi': 2, 'lcizx': 3, 'mwasx': 5, 'zgigj': 4, 'wgdqo': 4, 'gohiv': 4, 'tecnu': 3, 'nvbrn': 1, 'qtuym': 4, 'evinu': 1, 'mxdhw': 3, 'uagus': 4, 'nenji': 4, 'hymwk': 3, 'ikkkd': 2, 'adyqq': 4, 'vcqxm': 3, 'hobfv': 4, 'odktc': 1, 'qtqnc': 2, 'qiixb': 2, 'pvmoq': 5, 'tarhk': 1, 'hypcs': 1, 'rdfby': 4, 'doxkl': 3, 'rhwam': 2, 'gauqv': 5, 'uoohz': 4, 'eseii': 5, 'fyiad': 2, 'ensgj': 4, 'zrbyu': 4, 'gvomx': 2, 'eyxgi': 1, 'heqsw': 2, 'iwqhd': 5, 'lphpq': 4, 'smwrk': 4, 'hhdrs': 2, 'guvjx': 3, 'mloet': 3, 'iidkl': 1, 'ywmob': 1, 'xohwz': 2, 'ugtqe': 3, 'fezum': 1, 'iuckd': 3, 'rhmbz': 5, 'mzwwo': 2, 'uoygj': 4, 'zmivw': 5, 'icvua': 1, 'fmozl': 3, 'wgaen': 2, 'zklrx': 1, 'bfdqc': 5, 'yitpg': 4, 'ehvks': 4, 'atcpt': 5, 'czvpx': 5, 'xgxvu': 5, 'nfxyc': 2, 'laxoz': 4, 'wxhvn': 4, 'yjuel': 1, 'bclhu': 5, 'jdicn': 5, 'lodgs': 2, 'gkilw': 4, 'ucpdw': 5, 'eigmv': 3, 'jfova': 5, 'wxvmz': 5, 'tpakt': 3, 'kvruw': 4, 'qyxyi': 5, 'fkldo': 5, 'gvigs': 5, 'asdos': 5, 'kyzcr': 3, 'hovhg': 1, 'jlzvn': 3, 'yegwy': 5, 'ruxyc': 2, 'hppul': 3, 'thntn': 2, 'enbwy': 5, 'upkdj': 4, 'acjfe': 5, 'qiouk': 5, 'sehay': 5, 'xujpk': 2, 'uyooi': 3, 'pvzdx': 4, 'xynwn': 3, 'inryq': 1, 'kbzdn': 3, 'kcwow': 1, 'qebaa': 3, 'ocpbr': 3, 'savwm': 3, 'dcigx': 5, 'nvksr': 4, 'aqizq': 2, 'sbite': 5, 'kloan': 3, 'wabrb': 4, 'nxunh': 2, 'qtoru': 1, 'okybg': 1, 'ybrys': 2, 'hbodc': 2, 'mqrmb': 4, 'vvozh': 4, 'rpltt': 3, 'xwwnq': 5, 'ztwae': 2, 'qhqph': 4, 'xqgpc': 1, 'ixgqp': 5, 'bifsn': 2, 'juliv': 5, 'kzcrl': 2, 'qoyom': 1, 'zfjnj': 1, 'bwcxc': 4, 'luhbr': 2, 'nbgpt': 4, 'aegch': 4, 'fdgyp': 1, 'mhpsb': 2, 'qfugr': 4, 'hzdav': 2, 'rbkrm': 3, 'lphds': 5, 'gaozd': 5, 'heuwj': 5, 'tpkka': 3, 'ercul': 1, 'puqeg': 2, 'jdisa': 2, 'ulgfu': 4, 'rkpvf': 5, 'obujy': 2, 'lblmk': 1, 'uwdrj': 5, 'sxjrl': 2, 'rzeot': 5, 'veadg': 1, 'petoj': 2, 'ptdze': 1, 'ocwee': 5, 'qkrys': 2, 'yfwgl': 5, 'xvkmn': 5, 'vvodf': 5, 'uepbb': 5, 'ncgwl': 3, 'aaind': 1, 'bmvxu': 5, 'khaev': 4, 'jowds': 4, 'ptgie': 5, 'wmouz': 4, 'jjnbr': 2, 'hdlfu': 4, 'rlxiu': 2, 'rdghd': 1, 'ypccx': 1, 'zrlkd': 4, 'jneqk': 2, 'kxuef': 3, 'cccgi': 5, 'sgdrb': 2, 'tryfd': 4, 'sbmkc': 4, 'tvtgy': 5, 'edigv': 2, 'vtgei': 5, 'vqhoy': 1, 'tcmvv': 3, 'yojae': 3, 'eiawk': 2, 'zbkej': 2, 'vhaiy': 5, 'ujrvz': 4, 'vgsvd': 2, 'fcfhz': 4, 'kenpf': 4, 'gghgg': 4, 'ljuld': 3, 'vdkor': 3, 'gwbop': 5, 'qxkce': 2, 'morcr': 2, 'ziqfd': 5, 'kkpdw': 5, 'ghopm': 2, 'fjpcq': 5, 'hzkqn': 4, 'mgems': 5, 'rfyog': 4, 'hkivv': 4, 'tyoyj': 5, 'oqusk': 2, 'suqfb': 5, 'cwwoe': 1, 'krjmf': 2, 'olkdh': 2, 'fyiof': 5, 'qdicc': 3, 'mgibn': 3, 'rhdik': 3, 'hptfi': 2, 'mddfp': 3, 'wsnml': 3, 'pqmqu': 1, 'arvod': 5, 'zpnby': 2, 'yseyg': 3, 'vzkkg': 4, 'obxyi': 1, 'wagtf': 3, 'ccdma': 2, 'jjxvx': 5, 'foabe': 5, 'bkrir': 1, 'qwljl': 2, 'tczba': 5, 'nbxmp': 3, 'svqry': 5, 'otdju': 3, 'rtwco': 2, 'qmgnq': 1, 'nbmiy': 2, 'hrsuv': 3, 'svzex': 3, 'fisch': 2, 'elhfz': 3, 'hxbgs': 3, 'zuviv': 4, 'ysdjd': 1, 'mkfqd': 1, 'fzyyf': 2, 'firca': 3, 'zyxth': 1, 'zbkzs': 3, 'sawkx': 4, 'puhlf': 2, 'pjzjz': 5, 'insnc': 5, 'blcue': 5, 'huvrb': 3, 'bnezq': 2, 'qpqdg': 2, 'ityzl': 2, 'pqqam': 2, 'benew': 2, 'xauww': 1, 'wyknd': 5, 'qomzx': 5, 'tpqks': 5, 'oodls': 5, 'uyxho': 4, 'uutqx': 5, 'awice': 5, 'ucfdu': 5, 'xzcig': 2, 'qkoyw': 5, 'nsfzt': 5, 'mfytt': 1, 'hdzjx': 1, 'snjdk': 4, 'slqxc': 5, 'ghtqj': 3, 'fufyi': 2, 'bomda': 4, 'fjynj': 5, 'zwqov': 5, 'ushty': 4, 'neqkf': 5, 'cjhlr': 2, 'coppy': 2, 'rgjkr': 3, 'fiops': 3, 'kazwj': 2, 'rpaaa': 4, 'pzvct': 2, 'djvjn': 2, 'xlvwj': 1, 'etzbz': 3, 'sspsj': 3, 'knofu': 5, 'zxtry': 3, 'sdvgj': 1, 'efprw': 5, 'lzhne': 3, 'raqnu': 2, 'xkfca': 5, 'ymxim': 5, 'vykgl': 2, 'whprv': 1, 'psrtd': 5, 'zdkvi': 1, 'tmptb': 5, 'xixqo': 1, 'xxoip': 2, 'uohta': 3, 'alsvr': 1, 'hqhay': 1, 'ibfsy': 2, 'xrzak': 1, 'vzxnk': 2, 'vixon': 5, 'pzgvm': 3, 'acpdn': 2, 'ykceg': 2, 'bffzx': 5, 'sqkoj': 4, 'iikyi': 4, 'lpfcs': 3, 'kfxuv': 4, 'vvket': 1, 'vjxev': 2, 'tihvb': 2, 'eytca': 2, 'hrtua': 3, 'tbwgd': 4, 'unsuf': 3, 'hzrsy': 4, 'zesji': 2, 'phwga': 1, 'pblct': 3, 'llnrs': 1, 'frsbv': 3, 'jahcb': 5, 'cufvi': 3, 'ntzat': 5, 'curxp': 4, 'qftvd': 1, 'plwuc': 4, 'urrpl': 4, 'hprpw': 3, 'psqui': 5, 'slirf': 4, 'keefi': 4, 'inlxa': 3, 'vhxbd': 1, 'zilie': 2, 'fmitm': 2, 'llxey': 3, 'emuex': 3, 'jzojx': 5, 'pnhpa': 2, 'bojpz': 3, 'dmogv': 4, 'ophhz': 4, 'zoryb': 2, 'ofyzl': 4, 'idtgd': 2, 'dfjtw': 4, 'vozqj': 4, 'twdml': 3, 'fidia': 1, 'hzqfg': 5, 'rahdi': 3, 'cjcgr': 5, 'wjryu': 3, 'jljsp': 5, 'fdonw': 3, 'jngdw': 2, 'ebrev': 1, 'bqyyq': 2, 'pwkxy': 3, 'atqln': 1, 'clshg': 2, 'iqkhf': 5, 'pnogt': 3, 'iocih': 5, 'vbcvu': 1, 'xkrvu': 1, 'swmjh': 1, 'fvvmr': 3, 'aaoan': 3, 'kssas': 5, 'edrpk': 3, 'xwzox': 1, 'powse': 5, 'gtlye': 1, 'tavdc': 4, 'jpgzh': 4, 'oepbe': 1, 'kttcp': 4, 'csrdb': 5, 'hjobh': 5, 'avzpf': 5, 'wyznf': 3, 'atkgs': 3, 'bqomj': 1, 'baefb': 4, 'fgbjk': 4, 'icmaj': 2, 'iuqqh': 1, 'reesi': 5, 'kmmky': 1, 'ehbuk': 5, 'xsjmk': 5, 'bnork': 1, 'httrq': 5, 'nlhpj': 3, 'mlxtu': 2, 'huteg': 5, 'yjqua': 4, 'zxsym': 2, 'mbwis': 3, 'mjotw': 3, 'wdnmu': 5, 'kpfur': 1, 'iyxmf': 3, 'dkkby': 2, 'mgtps': 3, 'tkjuw': 2, 'lcsnl': 3, 'srdgq': 5, 'nqfrm': 1, 'tybhu': 5, 'pvkye': 3, 'kylqt': 2, 'nuwup': 2, 'iiscj': 1, 'sjrjb': 3, 'mwzls': 3, 'vgbjj': 5, 'qqjof': 3, 'cysyj': 2, 'ldwel': 3, 'doebk': 2, 'niuko': 2, 'hhyxx': 5, 'ctevr': 3, 'yfsao': 5, 'nyliy': 4, 'csfyp': 3, 'ykshf': 2, 'tcnyb': 1, 'ylzpq': 5, 'icbay': 2, 'fxngu': 4, 'txpcc': 4, 'dzypt': 4, 'jdciy': 5, 'ujrxk': 5, 'tikzy': 4, 'ijhla': 5, 'iqwwo': 1, 'nbvyf': 3, 'ptuql': 3, 'cstrb': 4, 'gnogb': 5, 'wiupx': 4, 'edpvu': 5, 'pvnum': 1, 'tycge': 5, 'jnxfp': 1, 'qfqik': 1, 'fgzog': 4, 'bsbwy': 1, 'imkso': 5, 'nzoae': 1, 'fpphj': 4, 'ivsjc': 5, 'fvjmh': 2, 'ewxpn': 4, 'ljtmt': 1, 'jnzpz': 1, 'zxgkx': 2, 'xamhd': 3, 'jmhwu': 1, 'qpzbk': 1, 'stiut': 1, 'mockf': 3, 'ehcpm': 1, 'lwtry': 3, 'amqze': 4, 'tczuc': 1, 'fyebo': 2, 'lfcdc': 4, 'inkdm': 5, 'dydwf': 2, 'ikqax': 5, 'utdsm': 3, 'csbqd': 5, 'tatcu': 3, 'rtjzx': 4, 'nyjhg': 1, 'uizip': 2, 'gieqb': 3, 'jjizp': 4, 'vpxlb': 3, 'sldpk': 2, 'jeeti': 5, 'lgamd': 3, 'cdhoq': 5, 'zijdz': 4, 'mletv': 1, 'qsgda': 3, 'dyusy': 5, 'cluqh': 3, 'rwzhq': 3, 'yhzik': 2, 'jliqz': 2, 'tseao': 1, 'qjfrr': 2, 'jqcqx': 2, 'xhzqd': 2, 'akurl': 2, 'aztlf': 2, 'dyssc': 5, 'xzwsh': 3, 'lnzjw': 1, 'rykbh': 5, 'rhkwj': 2, 'yqmyj': 4, 'sqpph': 5, 'otjba': 4, 'mynfm': 2, 'jxdhx': 4, 'ozmdw': 4, 'iloeo': 5, 'rmaes': 1, 'ksvcm': 3, 'niqli': 5, 'ibjaf': 4, 'piflr': 3, 'uccip': 2, 'umhbm': 2, 'icoho': 2, 'mmvrn': 2, 'bdjat': 4, 'qciop': 4, 'dtabf': 4, 'ukvaw': 1, 'mpedz': 2, 'lqibj': 5, 'hyyqy': 3, 'ounml': 5, 'cwsgm': 5, 'ynivl': 2, 'hzkor': 5, 'dqnto': 5, 'dhnxr': 5, 'ylnyo': 3, 'qijpu': 4, 'woilk': 5, 'nsuir': 1, 'rbcfk': 2, 'qoeri': 1, 'ukxyp': 3, 'aiuou': 2, 'mnslr': 2, 'bbnry': 3, 'ruiuc': 2, 'onetj': 5, 'xyzom': 3, 'irglt': 4, 'kwgga': 4, 'xmdoj': 5, 'tgdxy': 1, 'sbfej': 5, 'nftgb': 5, 'ndvgv': 4, 'jhkpx': 5, 'ajwhi': 1, 'npwhz': 5, 'tmylu': 5, 'ukmrh': 2, 'vmgbu': 2, 'zjqqn': 2, 'axnfm': 1, 'ofgxf': 1, 'qxfnp': 1, 'azcws': 2, 'iczzq': 1, 'vzbab': 1, 'kiwqy': 3, 'zhuke': 4, 'ykklf': 3, 'zfqmd': 1, 'adcyc': 3, 'uhbfu': 2, 'kuwer': 5, 'tylin': 2, 'sqpao': 2, 'tjhxx': 3, 'hqhpu': 4, 'hohxg': 1, 'slrnc': 2, 'ljzwy': 5, 'jhfup': 2, 'pjdxw': 3, 'yinlr': 1, 'ggxoj': 1, 'jxzof': 5, 'kfpkj': 3, 'qisdq': 4, 'mbgfs': 5, 'aziez': 5, 'iskfn': 2, 'dzswu': 5, 'mjeai': 3, 'mhdhb': 2, 'xcolo': 4, 'anrjh': 4, 'blyrs': 4, 'tysnt': 4, 'hgbed': 3, 'srhpd': 2, 'lgbbe': 5, 'wrksa': 2, 'fpcix': 3, 'usujw': 1, 'upgfi': 4, 'hdyge': 1, 'vwtet': 4, 'ofdag': 5, 'jyxei': 1, 'kwovt': 5, 'ktmxh': 4, 'xcvoo': 1, 'jscem': 5, 'lovee': 4, 'ophgj': 3, 'nmkom': 5, 'cfamc': 3, 'rzqud': 4, 'kbeqr': 3}\n",
      "{'jcorungfv': 4, 'uelqmxpd': 3, 'azskp': 5, 'gaehj': 3, 'yacgvuvmrd': 2, 'xclgtqt': 4, 'tdxpeu': 2, 'wetohrw': 3, 'sqjvehya': 4, 'tmkdttttq': 5, 'phe': 4, 'zywkysa': 2, 'wlkkkstvsz': 3, 'jghoe': 3, 'qyjhbh': 5, 'szcmjdj': 3, 'cbtb': 5, 'bmnopegfqy': 2, 'cljxekyxhw': 2, 'hwwyjkmq': 5, 'twpdb': 1, 'lydf': 5, 'rekisvwmty': 5, 'ztwvzbj': 1, 'ddopka': 3, 'mhacietbd': 5, 'sfqpvxgdf': 2, 'sfyxcq': 2, 'ctljs': 1, 'rknqb': 3, 'ldvfxun': 3, 'gfotohucx': 3, 'tmqagtjapb': 1, 'xrc': 5, 'qdfqhfht': 2, 'ceofl': 1, 'fkdenqoy': 5, 'hcrxypbppx': 2, 'eeopyiuz': 1, 'yhgvcige': 2, 'zvbtavp': 4, 'dntgdsooj': 3, 'jgjxpwbez': 1, 'aylcpdjkb': 4, 'qla': 1, 'yndixbabd': 2, 'uvhudgiovc': 3, 'rfogvqwfk': 5, 'lxb': 5, 'jyon': 5, 'czbsj': 3, 'xlodwqqmro': 2, 'dvzu': 1, 'jqhcokvdd': 1, 'qtsguvmav': 4, 'evzm': 1, 'oaumpd': 2, 'bddxf': 3, 'gtre': 4, 'fvqdazagfn': 3, 'tkjwqijoul': 3, 'ptltjgsob': 1, 'uwhdq': 2, 'fejtcmem': 2, 'bbc': 3, 'lvnqyzwnd': 3, 'dvsltl': 2, 'kyejt': 4, 'vlyyyov': 4, 'gznxpw': 2, 'pwmr': 1, 'ucbeucl': 2, 'mgkyaki': 2, 'rtmzvvfo': 3, 'slkhfv': 3, 'xpxyzcgtw': 2, 'vnmyglul': 3, 'gau': 2, 'eybpmhr': 3, 'uiokm': 2, 'nqusn': 1, 'zmd': 1, 'ajnxomnsn': 4, 'thi': 1, 'sxtyhfide': 2, 'upyx': 2, 'rkpv': 2, 'clbv': 1, 'wwf': 3, 'dlqj': 2, 'bmdkuumh': 5, 'fvytmqt': 4, 'sqi': 1, 'wphkcuu': 1, 'hgxoeezrtq': 4, 'xui': 3, 'kdpjrhpp': 4, 'hdvkc': 4, 'vkvjjenhh': 2, 'muzhjlkjs': 2, 'gyhnpwij': 4, 'hdvxjpvsvw': 3, 'ebwnx': 4, 'dvmzstkf': 5, 'psqtamh': 2, 'xzuoyqyul': 2, 'dec': 5, 'trorjfzhu': 4, 'muvmsb': 3, 'fxp': 3, 'zuqezns': 5, 'debznbmvyw': 5, 'mrxetw': 1, 'sgt': 3, 'yzca': 2, 'levisw': 2, 'idd': 2, 'arecgsdlf': 4, 'rbm': 1, 'sumfktgsif': 4, 'cyrma': 2, 'ovy': 2, 'lyj': 3, 'dzd': 3, 'oaixc': 2, 'gjvwfh': 2, 'tfowhiv': 3, 'labmmb': 5, 'oriljpzyu': 1, 'htxv': 4, 'xijqhgqcm': 5, 'yktkavov': 1, 'cpyoo': 3, 'rlau': 5, 'ulfl': 4, 'sqriqg': 4, 'nrsqhrom': 3, 'ibjekfyyua': 4, 'lgpun': 3, 'viyeokfymj': 4, 'gzycneuxx': 2, 'paybtt': 3, 'qet': 1, 'xicokbrkxk': 2, 'pyad': 4, 'cacxderney': 1, 'lazrhhooul': 4, 'wln': 2, 'weqijklq': 5, 'ehcv': 4, 'nmylkkdon': 3, 'xytu': 4, 'qkixjrsjkf': 1, 'qlnfmsidhx': 1, 'ukopbkx': 2, 'xakyodeuv': 5, 'uwfzm': 5, 'dtpsgui': 2, 'xoquvnl': 3, 'qnnuqhcgi': 4, 'ksuqnz': 2, 'ttbuiqyrrj': 3, 'nxxhwy': 5, 'xtk': 1, 'kbbppda': 3, 'zogpr': 2, 'hcg': 5, 'vgzk': 5, 'ufmxuzg': 1, 'ughg': 5, 'kwtsornj': 5, 'ouci': 5, 'qhncv': 1, 'qymn': 4, 'coen': 1, 'xkfpng': 5, 'rycyq': 1, 'hxwfqtu': 5, 'aidrxwbarm': 2, 'uemfv': 1, 'gtwt': 5, 'hepsqboti': 3, 'xbf': 1, 'ttfczgu': 4, 'hbgxpbpkp': 3, 'etatx': 5, 'mmtydyn': 1, 'jkbplyj': 3, 'ugqtf': 1, 'yxepks': 5, 'pcwyt': 2, 'ishiwfaesr': 1, 'edvhor': 3, 'fketybmu': 3, 'ahuwalcqdg': 4, 'bkejc': 2, 'ywpwiiydh': 4, 'qepc': 1, 'nvhpjxkt': 3, 'dmes': 3, 'jgslo': 5, 'pwsit': 3, 'sibgry': 1, 'joxftonlm': 4, 'auaf': 3, 'leraguxlr': 3, 'vlsti': 5, 'tnpvtv': 1, 'bsa': 1, 'prkazeg': 2, 'hwicjoyyd': 2, 'bpwhevixi': 4, 'dlvjpjeyyr': 4, 'erp': 4, 'ghu': 1, 'qfjrjbb': 2, 'qpbumpnx': 2, 'eflfc': 2, 'buqc': 2, 'vrjdpcg': 2, 'txmf': 1, 'dla': 2, 'ekbjc': 1, 'pkneiq': 4, 'kgwv': 3, 'bvs': 3, 'lovsn': 2, 'mklrd': 3, 'stazlsv': 1, 'sbdwzccqi': 5, 'mgiemn': 3, 'umgeai': 1, 'rbmwemogf': 5, 'iqtuswa': 2, 'hbfdrg': 4, 'dggsdi': 4, 'jslnpdsvdq': 5, 'mojznhx': 2, 'oyplhtjshn': 2, 'aexrhbft': 2, 'sqybbnlhi': 5, 'bzmrv': 1, 'zziajmxfjh': 5, 'qtn': 3, 'ntdaoc': 5, 'cqkegawmj': 2, 'olchm': 2, 'eospcppzaw': 5, 'dbf': 3, 'idccsftpto': 1, 'bsmpwaqkmw': 5, 'eip': 1, 'zoh': 4, 'wzoyada': 4, 'dtakya': 3, 'dmstdvsoif': 3, 'drbnzde': 3, 'ipxayrdmbd': 4, 'ape': 3, 'tadjsytfy': 2, 'wlzg': 3, 'csgokb': 5, 'yotaeakzsp': 2, 'gccorbgz': 3, 'smoz': 1, 'qrcr': 4, 'ruvclayr': 5, 'yawo': 4, 'gept': 2, 'xxbidj': 5, 'wnxchd': 3, 'gjjxg': 4, 'xiexolqrk': 4, 'kkgzmaik': 2, 'zdgwometc': 3, 'cah': 5, 'hbgucjsns': 1, 'xcnu': 4, 'helmql': 3, 'jyioftqc': 5, 'makxvk': 4, 'tehujess': 5, 'rdfuin': 1, 'tzboglvbz': 4, 'evtrg': 5, 'vicgwpe': 5, 'gxdckw': 1, 'avvabjnk': 4, 'hidnnbnrnm': 3, 'tjbzgx': 2, 'cxja': 5, 'adn': 1, 'crwkj': 5, 'clm': 4, 'kzaapmwgw': 2, 'csnpudfe': 4, 'hkyfunlths': 2, 'zxuxaj': 3, 'empxu': 5, 'xtonwj': 4, 'evigdhi': 5, 'zswna': 2, 'xtbvku': 1, 'xojpnimgil': 1, 'zdtjnzhptk': 2, 'ara': 3, 'xskm': 3, 'evhs': 5, 'dkabmodm': 1, 'dqmbklr': 1, 'lqbmkofl': 2, 'tfeznmctfp': 2, 'bxwttzu': 4, 'fsc': 4, 'pyln': 5, 'rad': 4, 'iffvubcug': 5, 'ghhaclmyu': 3, 'yrdko': 3, 'mkonke': 5, 'smoqzod': 3, 'nszhtqc': 2, 'ceoxy': 3, 'dapoarnfmw': 2, 'dliytfsem': 5, 'zvfglhbnxg': 3, 'hsqiuti': 1, 'pidrbzbaev': 2, 'jwe': 2, 'uokuw': 1, 'lmabnorqki': 5, 'abhgxxmwza': 2, 'fqninhbi': 4, 'zifrpwkks': 5, 'accnfhyaln': 5, 'rrej': 1, 'tgw': 3, 'dsndhewn': 4, 'hgdfp': 5, 'ljgdfdvxg': 3, 'dahevafi': 1, 'nygitci': 2, 'yufs': 3, 'uyreqhn': 3, 'fvqpd': 5, 'jeywvzpeaz': 3, 'xqkzhymi': 2, 'aqket': 1, 'wnmt': 3, 'kqxzliko': 2, 'suqucmbkfa': 3, 'pghjfwam': 5, 'xzkg': 2, 'lwj': 2, 'ypdpjgyl': 2, 'trfymar': 5, 'msz': 4, 'bwibsem': 5, 'iaq': 1, 'igiqqoivi': 3, 'pkreg': 3, 'ayiuolu': 3, 'hai': 3, 'hxwthgdy': 5, 'tofgqhmyv': 2, 'xvjtntl': 3, 'kmjnvj': 3, 'uvcp': 3, 'rkfyatt': 4, 'fvvoh': 4, 'ptj': 1, 'nuo': 3, 'ojjq': 1, 'nmnnrpo': 2, 'hckazirv': 1, 'qnykna': 2, 'furtuteoa': 2, 'ijz': 5, 'kwqwljxb': 3, 'elja': 2, 'jhnxstmgso': 4, 'ffmi': 5, 'cmjwbvfp': 5, 'rvdlgjhinz': 5, 'suhocerg': 5, 'shkvjxibi': 1, 'gbkjbp': 4, 'ptvir': 4, 'vtswo': 2, 'hyjspztk': 2, 'ukwxgln': 5, 'pfoggesaci': 4, 'pacsjx': 5, 'gmbxbjcb': 4, 'occg': 2, 'patnmdxpfw': 2, 'snlm': 5, 'jbfhshezrl': 5, 'triwpb': 1, 'pavz': 5, 'niwtv': 5, 'hknhh': 2, 'gcz': 4, 'nky': 4, 'bkfx': 1, 'wxdsso': 4, 'paohbmal': 2, 'ffqh': 5, 'nzkxc': 1, 'xhyflh': 2, 'koms': 3, 'kkyah': 5, 'blobommz': 2, 'pbgbxkqwh': 2, 'gmpdesy': 1, 'vnm': 3, 'otf': 5, 'zlkux': 1, 'zqbl': 4, 'rol': 4, 'vblszr': 1, 'krtzi': 3, 'epfutrvdr': 4, 'bvfimdf': 1, 'hudzo': 1, 'abbzw': 3, 'xrrgzj': 1, 'bmycsv': 4, 'upep': 1, 'owf': 1, 'ctmt': 3, 'csuq': 3, 'hctaw': 2, 'wmzwven': 4, 'vrinrtr': 3, 'jvld': 5, 'hcu': 1, 'oqukhavzr': 1, 'kjixfzrzp': 2, 'setjiavd': 5, 'jfqy': 4, 'ccxfagvps': 2, 'wpgmkzmxj': 1, 'xpgl': 1, 'glmdundj': 5, 'ftnicmf': 4, 'ijunbxlc': 3, 'ozgpnba': 2, 'zajby': 1, 'hggmenncs': 5, 'xvgpb': 4, 'nqeqxfb': 1, 'zygvpq': 3, 'pkp': 4, 'twjh': 2, 'yboyyesafz': 5, 'aoqfvuzvz': 1, 'lyiujxlui': 3, 'igpuj': 2, 'xnnqbtd': 2, 'gofcldtmbs': 2, 'vjsjmar': 1, 'wsw': 3, 'ccnrb': 4, 'lllfm': 4, 'sbxbbvyggp': 1, 'xjdpyo': 3, 'ngutppqxk': 3, 'ttorf': 2, 'ogvu': 5, 'wpnawu': 2, 'knpco': 1, 'rthdg': 5, 'edzlhjzq': 5, 'jygjdme': 4, 'vcyvgvpqir': 2, 'xrwwp': 4, 'ljxacrtht': 4, 'fmekk': 4, 'qizlvwccc': 3, 'isp': 4, 'vya': 2, 'qesfbna': 5, 'zeon': 3, 'dcttrx': 4, 'iprpyglet': 3, 'haqdsqlh': 3, 'zda': 2, 'jdpnhmwe': 2, 'jadymnxwhz': 4, 'uxffnzvhf': 3, 'wptt': 1, 'kmgzzn': 4, 'gtv': 4, 'roennrnsm': 4, 'mau': 3, 'daq': 4, 'uevjszkbod': 1, 'qlkmi': 4, 'zyeach': 3, 'vpajxc': 1, 'nvkemmzqb': 4, 'oqjyl': 2, 'lwvbxn': 3, 'pcpkkqkiie': 1, 'rpks': 4, 'xha': 5, 'wypzlcqv': 3, 'uwjwsw': 1, 'jfdu': 2, 'wgnbvc': 5, 'smv': 2, 'qmecnwp': 4, 'lxen': 5, 'laqscgd': 3, 'nlvhrcu': 5, 'wmfug': 2, 'gzl': 3, 'kguvs': 1, 'fmld': 4, 'wyxk': 3, 'wzgmsjzjsf': 3, 'fayeunqcr': 2, 'gmhbjyozy': 2, 'qtvwrxh': 5, 'xpjel': 4, 'ejwmhj': 5, 'wlspthw': 4, 'fclynjuy': 2, 'kxmyb': 3, 'kwfsfrruu': 1, 'kyl': 3, 'nqqwh': 5, 'wbuskimfwv': 1, 'ken': 5, 'qyxgjznyf': 3, 'onkqtrc': 3, 'tmqb': 4, 'lnh': 3, 'mfcj': 2, 'vnuukdkim': 1, 'ilcaxqzhwf': 2, 'jmo': 1, 'hefc': 3, 'riniy': 3, 'cnlobtkrx': 5, 'nvt': 2, 'umgucibb': 3, 'aepfbiu': 2, 'jrbnvm': 5, 'oggkwwd': 2, 'bnisgbw': 4, 'koxvmtq': 2, 'nnhvfif': 2, 'ufzendwl': 4, 'vbmbhgmtnj': 4, 'cutg': 1, 'ipwn': 1, 'nbh': 4, 'cguemofxg': 2, 'ysd': 5, 'fvc': 4, 'qkykpk': 1, 'gmwbmjpna': 4, 'ktlr': 3, 'wyl': 5, 'vevy': 2, 'motg': 2, 'uyzvheuqvv': 4, 'piflqj': 5, 'wedpq': 2, 'incirqmjb': 2, 'hxajfydxv': 5, 'vnbudkqzv': 1, 'dbypimkdbj': 1, 'rgrmgf': 4, 'xgihl': 1, 'cckty': 3, 'bcdxr': 1, 'nfsscg': 2, 'lqfwar': 1, 'bghxcdom': 4, 'wkyaqnlat': 3, 'gsaqodyjrw': 3, 'edlcforjno': 5, 'shwspskrwb': 4, 'sabybi': 2, 'ltcvfbk': 2, 'alxern': 4, 'mqx': 1, 'xjfbj': 4, 'uyv': 4, 'qsdibe': 4, 'mrdfarl': 2, 'aswwvbvq': 4, 'bwmtufbq': 1, 'obtspd': 1, 'qlybxe': 4, 'nvjmjm': 5, 'wfrrna': 5, 'xehhabgnys': 3, 'xlvddhsvn': 5, 'bzubsxddm': 2, 'rxoezdb': 3, 'wlq': 3, 'jeqleksb': 2, 'ppilwrr': 1, 'buhmvm': 4, 'yrzvy': 2, 'tlne': 4, 'oxhirw': 3, 'vsybxxipqj': 1, 'rghwbkkble': 3, 'hgelktzz': 5, 'dyllrmdkrg': 2, 'aljmzmn': 1, 'vrzuj': 5, 'nuwd': 5, 'yabeceu': 4, 'pknvsd': 2, 'pluo': 1, 'mxeiikhv': 1, 'zzbjh': 5, 'trguyct': 4, 'amojm': 5, 'lzmgyophn': 5, 'lewfpklf': 4, 'hypp': 4, 'nrwrvx': 5, 'wjmcd': 1, 'erqc': 1, 'rpb': 3, 'epd': 4, 'wnskvnu': 3, 'vddicgyou': 1, 'pdoc': 4, 'nndzn': 5, 'cpaibfzwh': 5, 'dfog': 4, 'eiimxeod': 4, 'shhnkolpq': 5, 'bji': 2, 'nyvi': 5, 'spud': 5, 'udigflhe': 3, 'psqfeiqdt': 2, 'umho': 3, 'hnu': 1, 'dxidllpf': 2, 'degb': 5, 'zuar': 3, 'dodz': 4, 'rvpcdimi': 5, 'jsaxcmubir': 5, 'wgslubaig': 3, 'cwkuybft': 5, 'qadl': 2, 'smbifo': 4, 'yac': 2, 'dsxfygssyx': 4, 'eak': 3, 'ixzystu': 2, 'idsvt': 2, 'fjh': 5, 'rlvk': 3, 'pil': 2, 'xtsqq': 1, 'bxfegjhcqi': 5, 'uoirffe': 2, 'qwyqkodn': 1, 'wdenuq': 2, 'ugedae': 3, 'asxvzrjeb': 5, 'drps': 5, 'fqewda': 4, 'yeefuipk': 3, 'uiqhm': 2, 'kwr': 4, 'qcsj': 2, 'vxdijaa': 1, 'ythmuzwfqx': 5, 'jxzhxu': 3, 'zuxkszp': 3, 'ievsszmv': 1, 'fwqmhx': 4, 'oskelr': 3, 'qdyixglyr': 5, 'nndi': 3, 'aiylamxulw': 2, 'zhcfwizgzi': 3, 'aukh': 5, 'wbxz': 3, 'zno': 2, 'qca': 5, 'chtecm': 3, 'lddeslrxwd': 5, 'yvrlarmfc': 1, 'fevjwwr': 3, 'avnjqszr': 5, 'ugedpiol': 4, 'tbtftwfwx': 2, 'wqtbuxzqa': 2, 'rcd': 4, 'glepg': 3, 'rzrz': 1, 'rhhyzifs': 4, 'gwzhyv': 2, 'tixnll': 5, 'ltwvh': 5, 'pmbacr': 3, 'gve': 3, 'ygw': 5, 'wkc': 2, 'avfi': 5, 'uxyrenr': 3, 'cpthw': 3, 'csyunupdvf': 4, 'vxr': 2, 'bkbasio': 2, 'dihid': 3, 'svyl': 5, 'oavm': 3, 'gbpvbrlia': 2, 'biaso': 4, 'lbhu': 4, 'rinkptobj': 1, 'kfqms': 3, 'rolmqis': 2, 'zcjejaqsuk': 4, 'ftapdgto': 3, 'wkmwzzba': 2, 'dnnyvxocpo': 3, 'uyen': 3, 'athzzydx': 1, 'ndqu': 1, 'wwjaonusyl': 5, 'abemfpejf': 2, 'xmktfga': 5, 'gybpujco': 2, 'mjlmciuziw': 4, 'mrccx': 2, 'tcfdlkyb': 2, 'hkwgbl': 4, 'noqi': 4, 'imgw': 4, 'reuq': 2, 'bhgry': 5, 'abjpla': 1, 'qmrsrh': 5, 'qknrrtwkc': 2, 'wqmpepu': 1, 'cqtluwyp': 4, 'sepbfz': 2, 'dknpli': 4, 'evhnlwuih': 4, 'dyjsyd': 4, 'dce': 1, 'fkfzugkvc': 2, 'pvmxvjwakf': 3, 'oeuim': 2, 'pufwj': 5, 'sqkyezqx': 2, 'wgmqaxjchg': 4, 'lyplq': 3, 'rwyzlhfci': 5, 'nbqby': 4, 'loml': 2, 'kkzmmtkdi': 1, 'wqvb': 3, 'twxutnfano': 5, 'zdizqiaeh': 1, 'sxcdw': 4, 'jpubeei': 3, 'ljicgdle': 5, 'lfgyh': 4, 'cmt': 3, 'ockacvi': 5, 'iqjplujno': 3, 'dfmgz': 4, 'pthl': 5, 'skwvmwvdvo': 4, 'vfcuiufhlw': 5, 'nbzl': 4, 'wzlwhyeyyc': 3, 'ggzhywfnt': 5, 'tmjuwyrc': 1, 'roi': 2, 'pka': 4, 'uirdkc': 4, 'dmudvvylrz': 3, 'ijj': 4, 'nlfntuvayi': 2, 'nao': 5, 'yusj': 2, 'bikvn': 2, 'cnbmretzok': 3, 'twfqxapbs': 3, 'gdnwwfk': 1, 'vumycvsx': 5, 'ruwblso': 2, 'vopvdys': 3, 'rwawu': 5, 'abz': 5, 'atsakqcg': 4, 'rzpbfwwmek': 1, 'agxj': 5, 'vrczcfsr': 2, 'inyhonx': 4, 'tekux': 1, 'sbinpoz': 1, 'urao': 2, 'hdpij': 4, 'kiqu': 2, 'ygwsxn': 2, 'rmcakgyewn': 1, 'ptioesiqx': 4, 'ievgdfkjf': 4, 'fonuo': 4, 'erdfhxkrn': 2, 'badvzjz': 1, 'atffauyjc': 2, 'jmh': 2, 'ibszjk': 5, 'dkocubrbr': 4, 'oraauxlz': 1, 'jwtexyoyvf': 1, 'hfvunmy': 1, 'mojhbgnug': 3, 'rcok': 5, 'iztfrsiqne': 5, 'qycxjvidvl': 1, 'cpb': 1, 'qovifvkmqf': 5, 'kyyqvipjr': 4, 'ofbifq': 5, 'qxle': 1, 'deaebu': 4, 'dqgyzf': 1, 'vfl': 2, 'prefdvj': 5, 'ifckvinozd': 2, 'gamxmbhooq': 2, 'wvewayeuqo': 5, 'kehj': 5, 'icvvpkpbhl': 3, 'qsh': 2, 'yutzo': 2, 'mztlizx': 5, 'lcuiywp': 5, 'latbn': 1, 'xnoktkg': 2, 'onyoqt': 2, 'dwsk': 5, 'zelwkh': 3, 'ond': 4, 'efz': 5, 'rtpk': 4, 'dyxenxgh': 5, 'msdvy': 5, 'fuelnqj': 1, 'qmdsvnwvi': 5, 'lvzblpjvm': 2, 'lpsodd': 1, 'plnx': 1, 'yuczpm': 5, 'sltag': 3, 'iic': 1, 'ful': 5, 'srm': 1, 'abjctxbct': 3, 'fogb': 3, 'yzipc': 3, 'lrdp': 4, 'lwbijrsxw': 4, 'hmrwrtypux': 1, 'uujr': 2, 'cwallcquq': 3, 'stslmptnzb': 1, 'ikct': 4, 'dwp': 1, 'beiqftxgt': 1, 'uifvicfxt': 1, 'anpeb': 1, 'dmfcdvrkyd': 3, 'fuc': 2, 'vbnaa': 1, 'jmtkvzsrst': 2, 'oqzbcjtlla': 5, 'tjdqz': 5, 'aws': 1, 'eiin': 2, 'alrbba': 4, 'jxukvme': 3, 'wbocypy': 3, 'jtcj': 4, 'ueveiqdhhu': 2, 'xkg': 1, 'xztzqezohk': 3, 'vmzjpt': 4, 'clrwrcij': 5, 'anydyjlbu': 1, 'wvdlvujtxw': 4, 'uejhjfjn': 2, 'ycm': 1, 'oipzxpioep': 2, 'llz': 5, 'jabvcms': 5, 'wlyqmuk': 3, 'ntcuh': 2, 'mrj': 1, 'skcooma': 5, 'oyys': 1, 'wscxsuxi': 2, 'sube': 2, 'rca': 2, 'ibudxufj': 3, 'dkxaw': 1, 'ddkzjdtw': 1, 'rumtesgmgk': 3, 'eeanwmqpff': 1, 'galv': 3, 'tigxmiskgj': 3, 'aszsn': 1, 'dsq': 2, 'xkiiumjx': 1, 'srsknqc': 5, 'fbkyelg': 5, 'jkxyvqkd': 5, 'qkorn': 3, 'pinqfy': 3, 'sibojbiekf': 5, 'gfxxgiz': 3, 'ztohgsql': 3, 'eweepsqajy': 3, 'gso': 3, 'cvb': 2, 'ram': 2, 'wqlviuudcc': 1, 'jpnbq': 1, 'kksgtsf': 3, 'nbuwlgyf': 3, 'vmjtvhqr': 3, 'lvlxzr': 4, 'vwhhmwv': 4, 'axqewpgvdv': 1, 'lpls': 3, 'hqhgf': 5, 'nutxz': 1, 'lsicikv': 5, 'xmm': 5, 'qzzmutlqjd': 1, 'culnyhlij': 4, 'nqtewzxh': 3, 'aav': 2, 'gbe': 2, 'qmuppf': 1, 'aalsusmw': 1, 'qktkbw': 1, 'rfkwtwjzz': 4, 'abyxqpxk': 3, 'ssynteqrj': 3, 'mnfalqxsum': 4, 'vnpjtd': 2, 'dtluvsgwvo': 5, 'uqlyfx': 4, 'wfwtmst': 1, 'qglsoige': 1, 'giodsoilmf': 2, 'phxhdcfmtq': 4, 'ffuln': 5, 'toqowsq': 5, 'acjacvfh': 4, 'svnevvpnmk': 4, 'rydz': 1, 'jibm': 4, 'gqvsqzt': 5, 'mwrlgrzekx': 3, 'tlhdemsewm': 3, 'azzacurslc': 3, 'uifars': 5, 'wrqsgta': 5, 'qpgxmcwl': 3, 'dctqabyy': 5, 'ljckdfjrho': 3, 'ceopdt': 2, 'dkaywxjp': 2, 'otc': 2, 'rhljx': 5, 'xpzskizttm': 5, 'bepsajn': 1, 'kxqi': 5, 'kzlwx': 3, 'pyvcrqraqw': 4, 'vrqj': 1, 'covt': 4, 'xixdr': 3, 'svceld': 4, 'yol': 5}\n",
      "Average grade: 3.0080160320641283\n",
      "Grade counts: {1: 184, 2: 215, 3: 209, 4: 189, 5: 201}\n"
     ]
    }
   ],
   "source": [
    "# Part 1\n",
    "students_dict = {\"\".join(random.choices(string.ascii_lowercase, k=5)) : random.randint(1,5) for i in range(1000)}\n",
    "print(students_dict)\n",
    "\n",
    "# Part 2\n",
    "students_dict = {\"\".join(random.choices(string.ascii_lowercase, k=random.randint(3,10))) : random.randint(1,5) for i in range(1000)}\n",
    "print(students_dict)\n",
    "\n",
    "# Part 3\n",
    "total_grades = sum(students_dict.values())\n",
    "average_grade = total_grades / len(students_dict)\n",
    "print(\"Average grade:\", average_grade)\n",
    "\n",
    "# Part 4\n",
    "grade_counts = {grade: list(students_dict.values()).count(grade) for grade in range(1,6)}\n",
    "print(\"Grade counts:\", grade_counts)"
   ]
  },
  {
   "attachments": {},
   "cell_type": "markdown",
   "metadata": {},
   "source": [
    "### Functions\n",
    "\n",
    "Turn what you've done in the previous exercise into functions. Don't write one monotholic function, split it logically."
   ]
  },
  {
   "cell_type": "code",
   "execution_count": null,
   "metadata": {},
   "outputs": [],
   "source": []
  },
  {
   "attachments": {},
   "cell_type": "markdown",
   "metadata": {},
   "source": [
    "### Thinking stretching\n",
    "\n",
    "* Given an array of integers nums and an integer target, return indices of the two numbers such that they add up to target.\n",
    "* You may assume that each input would have exactly one solution, and you may not use the same element twice.\n",
    "* You can return the answer in any order."
   ]
  },
  {
   "cell_type": "markdown",
   "metadata": {},
   "source": []
  }
 ],
 "metadata": {
  "kernelspec": {
   "display_name": "Python 3.10.7 64-bit",
   "language": "python",
   "name": "python3"
  },
  "language_info": {
   "codemirror_mode": {
    "name": "ipython",
    "version": 3
   },
   "file_extension": ".py",
   "mimetype": "text/x-python",
   "name": "python",
   "nbconvert_exporter": "python",
   "pygments_lexer": "ipython3",
   "version": "3.11.2"
  },
  "orig_nbformat": 4,
  "vscode": {
   "interpreter": {
    "hash": "1f0e6d99f3103fd78365fe1cf7b2d51239fa0878786db9cbdfe89bc88a3151d3"
   }
  }
 },
 "nbformat": 4,
 "nbformat_minor": 2
}
