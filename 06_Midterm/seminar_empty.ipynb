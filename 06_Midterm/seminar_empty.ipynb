{
 "cells": [
  {
   "cell_type": "code",
   "execution_count": 206,
   "id": "b7744c41-1d85-412f-bd29-d2a88d4a4b61",
   "metadata": {},
   "outputs": [],
   "source": [
    "import zipfile\n",
    "import numpy as np\n",
    "import pandas as pd\n",
    "import matplotlib.pyplot as plt"
   ]
  },
  {
   "attachments": {},
   "cell_type": "markdown",
   "id": "846433d6-8952-4eb1-a1de-7cfb0e7c9293",
   "metadata": {},
   "source": [
    "## 1. Load the data"
   ]
  },
  {
   "attachments": {},
   "cell_type": "markdown",
   "id": "1b22eae0-008a-4486-9dba-3fc7b0fa169f",
   "metadata": {},
   "source": [
    "### 1a. Explore the file structure of CSV file"
   ]
  },
  {
   "cell_type": "code",
   "execution_count": 47,
   "id": "7c25c97e-55a2-47c6-9935-7f40bb14c737",
   "metadata": {},
   "outputs": [
    {
     "data": {
      "text/html": [
       "<div>\n",
       "<style scoped>\n",
       "    .dataframe tbody tr th:only-of-type {\n",
       "        vertical-align: middle;\n",
       "    }\n",
       "\n",
       "    .dataframe tbody tr th {\n",
       "        vertical-align: top;\n",
       "    }\n",
       "\n",
       "    .dataframe thead th {\n",
       "        text-align: right;\n",
       "    }\n",
       "</style>\n",
       "<table border=\"1\" class=\"dataframe\">\n",
       "  <thead>\n",
       "    <tr style=\"text-align: right;\">\n",
       "      <th></th>\n",
       "      <th>High</th>\n",
       "      <th>Low</th>\n",
       "      <th>Open</th>\n",
       "      <th>Close</th>\n",
       "      <th>Volume</th>\n",
       "      <th>Adj Close</th>\n",
       "    </tr>\n",
       "    <tr>\n",
       "      <th>Date</th>\n",
       "      <th></th>\n",
       "      <th></th>\n",
       "      <th></th>\n",
       "      <th></th>\n",
       "      <th></th>\n",
       "      <th></th>\n",
       "    </tr>\n",
       "  </thead>\n",
       "  <tbody>\n",
       "    <tr>\n",
       "      <th>2017-11-13</th>\n",
       "      <td>12.9775</td>\n",
       "      <td>12.5225</td>\n",
       "      <td>12.5825</td>\n",
       "      <td>12.8875</td>\n",
       "      <td>4707200</td>\n",
       "      <td>12.8875</td>\n",
       "    </tr>\n",
       "    <tr>\n",
       "      <th>2017-11-14</th>\n",
       "      <td>13.1100</td>\n",
       "      <td>12.6375</td>\n",
       "      <td>12.8900</td>\n",
       "      <td>12.8875</td>\n",
       "      <td>7096400</td>\n",
       "      <td>12.8875</td>\n",
       "    </tr>\n",
       "    <tr>\n",
       "      <th>2017-11-15</th>\n",
       "      <td>13.1475</td>\n",
       "      <td>12.7850</td>\n",
       "      <td>12.8425</td>\n",
       "      <td>13.0000</td>\n",
       "      <td>5410800</td>\n",
       "      <td>13.0000</td>\n",
       "    </tr>\n",
       "    <tr>\n",
       "      <th>2017-11-16</th>\n",
       "      <td>13.2900</td>\n",
       "      <td>12.8675</td>\n",
       "      <td>13.0625</td>\n",
       "      <td>13.2550</td>\n",
       "      <td>3868000</td>\n",
       "      <td>13.2550</td>\n",
       "    </tr>\n",
       "    <tr>\n",
       "      <th>2017-11-17</th>\n",
       "      <td>13.5225</td>\n",
       "      <td>13.0500</td>\n",
       "      <td>13.2400</td>\n",
       "      <td>13.5025</td>\n",
       "      <td>6152800</td>\n",
       "      <td>13.5025</td>\n",
       "    </tr>\n",
       "  </tbody>\n",
       "</table>\n",
       "</div>"
      ],
      "text/plain": [
       "               High      Low     Open    Close   Volume  Adj Close\n",
       "Date                                                              \n",
       "2017-11-13  12.9775  12.5225  12.5825  12.8875  4707200    12.8875\n",
       "2017-11-14  13.1100  12.6375  12.8900  12.8875  7096400    12.8875\n",
       "2017-11-15  13.1475  12.7850  12.8425  13.0000  5410800    13.0000\n",
       "2017-11-16  13.2900  12.8675  13.0625  13.2550  3868000    13.2550\n",
       "2017-11-17  13.5225  13.0500  13.2400  13.5025  6152800    13.5025"
      ]
     },
     "execution_count": 47,
     "metadata": {},
     "output_type": "execute_result"
    }
   ],
   "source": [
    "dxcm = pd.read_csv(\"D:\\OneDrive - FSV\\IES bc\\Data Proccesing in Python\\Midterm\\DXCM.csv\")\n",
    "dxcm['Date'] = pd.to_datetime(dxcm['Date'])\n",
    "dxcm = dxcm.set_index('Date')\n",
    "dxcm.dtypes\n",
    "dxcm.head()"
   ]
  },
  {
   "attachments": {},
   "cell_type": "markdown",
   "id": "fc6922d5-a5e3-4001-acd1-33598e5b2881",
   "metadata": {},
   "source": [
    "### 1b. Explore the structure of one CSV"
   ]
  },
  {
   "cell_type": "code",
   "execution_count": 44,
   "id": "882f599b-83f6-4147-b7c5-032a8022d54f",
   "metadata": {},
   "outputs": [
    {
     "data": {
      "text/html": [
       "<div>\n",
       "<style scoped>\n",
       "    .dataframe tbody tr th:only-of-type {\n",
       "        vertical-align: middle;\n",
       "    }\n",
       "\n",
       "    .dataframe tbody tr th {\n",
       "        vertical-align: top;\n",
       "    }\n",
       "\n",
       "    .dataframe thead th {\n",
       "        text-align: right;\n",
       "    }\n",
       "</style>\n",
       "<table border=\"1\" class=\"dataframe\">\n",
       "  <thead>\n",
       "    <tr style=\"text-align: right;\">\n",
       "      <th></th>\n",
       "      <th>High</th>\n",
       "      <th>Low</th>\n",
       "      <th>Open</th>\n",
       "      <th>Close</th>\n",
       "      <th>Volume</th>\n",
       "      <th>Adj Close</th>\n",
       "    </tr>\n",
       "    <tr>\n",
       "      <th>Date</th>\n",
       "      <th></th>\n",
       "      <th></th>\n",
       "      <th></th>\n",
       "      <th></th>\n",
       "      <th></th>\n",
       "      <th></th>\n",
       "    </tr>\n",
       "  </thead>\n",
       "  <tbody>\n",
       "    <tr>\n",
       "      <th>2017-11-13</th>\n",
       "      <td>44.080002</td>\n",
       "      <td>42.139999</td>\n",
       "      <td>44.080002</td>\n",
       "      <td>42.290001</td>\n",
       "      <td>1461000.0</td>\n",
       "      <td>33.785347</td>\n",
       "    </tr>\n",
       "    <tr>\n",
       "      <th>2017-11-14</th>\n",
       "      <td>42.450001</td>\n",
       "      <td>41.500000</td>\n",
       "      <td>42.130001</td>\n",
       "      <td>41.560001</td>\n",
       "      <td>1636200.0</td>\n",
       "      <td>33.202152</td>\n",
       "    </tr>\n",
       "    <tr>\n",
       "      <th>2017-11-15</th>\n",
       "      <td>42.759998</td>\n",
       "      <td>40.570000</td>\n",
       "      <td>41.290001</td>\n",
       "      <td>42.320000</td>\n",
       "      <td>1865000.0</td>\n",
       "      <td>33.809315</td>\n",
       "    </tr>\n",
       "    <tr>\n",
       "      <th>2017-11-16</th>\n",
       "      <td>43.150002</td>\n",
       "      <td>41.410000</td>\n",
       "      <td>43.150002</td>\n",
       "      <td>41.900002</td>\n",
       "      <td>1362900.0</td>\n",
       "      <td>33.473782</td>\n",
       "    </tr>\n",
       "    <tr>\n",
       "      <th>2017-11-17</th>\n",
       "      <td>42.490002</td>\n",
       "      <td>41.639999</td>\n",
       "      <td>42.220001</td>\n",
       "      <td>42.040001</td>\n",
       "      <td>999000.0</td>\n",
       "      <td>33.585617</td>\n",
       "    </tr>\n",
       "  </tbody>\n",
       "</table>\n",
       "</div>"
      ],
      "text/plain": [
       "                 High        Low       Open      Close     Volume  Adj Close\n",
       "Date                                                                        \n",
       "2017-11-13  44.080002  42.139999  44.080002  42.290001  1461000.0  33.785347\n",
       "2017-11-14  42.450001  41.500000  42.130001  41.560001  1636200.0  33.202152\n",
       "2017-11-15  42.759998  40.570000  41.290001  42.320000  1865000.0  33.809315\n",
       "2017-11-16  43.150002  41.410000  43.150002  41.900002  1362900.0  33.473782\n",
       "2017-11-17  42.490002  41.639999  42.220001  42.040001   999000.0  33.585617"
      ]
     },
     "execution_count": 44,
     "metadata": {},
     "output_type": "execute_result"
    }
   ],
   "source": [
    "trgp = pd.read_csv(\"D:\\OneDrive - FSV\\IES bc\\Data Proccesing in Python\\Midterm\\TRGP.csv\")\n",
    "trgp['Date'] = pd.to_datetime(trgp['Date'])\n",
    "trgp = trgp.set_index('Date')\n",
    "trgp.dtypes\n",
    "trgp.head()"
   ]
  },
  {
   "attachments": {},
   "cell_type": "markdown",
   "id": "68b3b0dc-b4a8-4ee6-9ba3-ddfe7894568b",
   "metadata": {},
   "source": [
    "### 1c. Try another one"
   ]
  },
  {
   "cell_type": "code",
   "execution_count": 163,
   "id": "ae0294d3-218c-48b5-b522-5589175a5126",
   "metadata": {},
   "outputs": [
    {
     "name": "stdout",
     "output_type": "stream",
     "text": [
      "High         float64\n",
      "Low          float64\n",
      "Open         float64\n",
      "Close        float64\n",
      "Volume       float64\n",
      "Adj Close    float64\n",
      "dtype: object\n"
     ]
    },
    {
     "data": {
      "text/html": [
       "<div>\n",
       "<style scoped>\n",
       "    .dataframe tbody tr th:only-of-type {\n",
       "        vertical-align: middle;\n",
       "    }\n",
       "\n",
       "    .dataframe tbody tr th {\n",
       "        vertical-align: top;\n",
       "    }\n",
       "\n",
       "    .dataframe thead th {\n",
       "        text-align: right;\n",
       "    }\n",
       "</style>\n",
       "<table border=\"1\" class=\"dataframe\">\n",
       "  <thead>\n",
       "    <tr style=\"text-align: right;\">\n",
       "      <th></th>\n",
       "      <th>High</th>\n",
       "      <th>Low</th>\n",
       "      <th>Open</th>\n",
       "      <th>Close</th>\n",
       "      <th>Volume</th>\n",
       "      <th>Adj Close</th>\n",
       "    </tr>\n",
       "    <tr>\n",
       "      <th>Date</th>\n",
       "      <th></th>\n",
       "      <th></th>\n",
       "      <th></th>\n",
       "      <th></th>\n",
       "      <th></th>\n",
       "      <th></th>\n",
       "    </tr>\n",
       "  </thead>\n",
       "  <tbody>\n",
       "    <tr>\n",
       "      <th>2017-11-13</th>\n",
       "      <td>75.830002</td>\n",
       "      <td>73.180000</td>\n",
       "      <td>74.559998</td>\n",
       "      <td>75.589996</td>\n",
       "      <td>5475300.0</td>\n",
       "      <td>68.071846</td>\n",
       "    </tr>\n",
       "    <tr>\n",
       "      <th>2017-11-14</th>\n",
       "      <td>76.620003</td>\n",
       "      <td>75.610001</td>\n",
       "      <td>75.650002</td>\n",
       "      <td>76.070000</td>\n",
       "      <td>2867200.0</td>\n",
       "      <td>68.504120</td>\n",
       "    </tr>\n",
       "    <tr>\n",
       "      <th>2017-11-15</th>\n",
       "      <td>76.940002</td>\n",
       "      <td>75.750000</td>\n",
       "      <td>76.320000</td>\n",
       "      <td>76.209999</td>\n",
       "      <td>3170300.0</td>\n",
       "      <td>68.630180</td>\n",
       "    </tr>\n",
       "    <tr>\n",
       "      <th>2017-11-16</th>\n",
       "      <td>77.739998</td>\n",
       "      <td>75.910004</td>\n",
       "      <td>76.529999</td>\n",
       "      <td>77.260002</td>\n",
       "      <td>2567600.0</td>\n",
       "      <td>69.575752</td>\n",
       "    </tr>\n",
       "    <tr>\n",
       "      <th>2017-11-17</th>\n",
       "      <td>78.029999</td>\n",
       "      <td>76.750000</td>\n",
       "      <td>76.830002</td>\n",
       "      <td>77.970001</td>\n",
       "      <td>2258600.0</td>\n",
       "      <td>70.215149</td>\n",
       "    </tr>\n",
       "  </tbody>\n",
       "</table>\n",
       "</div>"
      ],
      "text/plain": [
       "                 High        Low       Open      Close     Volume  Adj Close\n",
       "Date                                                                        \n",
       "2017-11-13  75.830002  73.180000  74.559998  75.589996  5475300.0  68.071846\n",
       "2017-11-14  76.620003  75.610001  75.650002  76.070000  2867200.0  68.504120\n",
       "2017-11-15  76.940002  75.750000  76.320000  76.209999  3170300.0  68.630180\n",
       "2017-11-16  77.739998  75.910004  76.529999  77.260002  2567600.0  69.575752\n",
       "2017-11-17  78.029999  76.750000  76.830002  77.970001  2258600.0  70.215149"
      ]
     },
     "execution_count": 163,
     "metadata": {},
     "output_type": "execute_result"
    }
   ],
   "source": [
    "tsn = pd.read_csv(\"D:\\OneDrive - FSV\\IES bc\\Data Proccesing in Python\\Midterm\\TSN.csv\")\n",
    "tsn['Date'] = pd.to_datetime(tsn['Date'])\n",
    "tsn = tsn.set_index('Date')\n",
    "print(tsn.dtypes)\n",
    "tsn.head()\n"
   ]
  },
  {
   "attachments": {},
   "cell_type": "markdown",
   "id": "02ecdb84-b8bd-4377-a86d-b863a6a0399f",
   "metadata": {},
   "source": [
    "### 1d. Load all files into a single df\n",
    "* Remember keeping track of the analyzed company!\n",
    "* Beware dtypes!\n",
    "* What should be the index?"
   ]
  },
  {
   "cell_type": "code",
   "execution_count": 164,
   "id": "3feff270-7d28-4324-aded-8e38c489bdce",
   "metadata": {},
   "outputs": [
    {
     "data": {
      "text/html": [
       "<div>\n",
       "<style scoped>\n",
       "    .dataframe tbody tr th:only-of-type {\n",
       "        vertical-align: middle;\n",
       "    }\n",
       "\n",
       "    .dataframe tbody tr th {\n",
       "        vertical-align: top;\n",
       "    }\n",
       "\n",
       "    .dataframe thead th {\n",
       "        text-align: right;\n",
       "    }\n",
       "</style>\n",
       "<table border=\"1\" class=\"dataframe\">\n",
       "  <thead>\n",
       "    <tr style=\"text-align: right;\">\n",
       "      <th></th>\n",
       "      <th></th>\n",
       "      <th>High</th>\n",
       "      <th>Low</th>\n",
       "      <th>Open</th>\n",
       "      <th>Close</th>\n",
       "      <th>Volume</th>\n",
       "      <th>Adj Close</th>\n",
       "    </tr>\n",
       "    <tr>\n",
       "      <th>Company</th>\n",
       "      <th>Date</th>\n",
       "      <th></th>\n",
       "      <th></th>\n",
       "      <th></th>\n",
       "      <th></th>\n",
       "      <th></th>\n",
       "      <th></th>\n",
       "    </tr>\n",
       "  </thead>\n",
       "  <tbody>\n",
       "    <tr>\n",
       "      <th rowspan=\"5\" valign=\"top\">DXCM</th>\n",
       "      <th>2017-11-13</th>\n",
       "      <td>12.977500</td>\n",
       "      <td>12.522500</td>\n",
       "      <td>12.582500</td>\n",
       "      <td>12.887500</td>\n",
       "      <td>4707200.0</td>\n",
       "      <td>12.887500</td>\n",
       "    </tr>\n",
       "    <tr>\n",
       "      <th>2017-11-14</th>\n",
       "      <td>13.110000</td>\n",
       "      <td>12.637500</td>\n",
       "      <td>12.890000</td>\n",
       "      <td>12.887500</td>\n",
       "      <td>7096400.0</td>\n",
       "      <td>12.887500</td>\n",
       "    </tr>\n",
       "    <tr>\n",
       "      <th>2017-11-15</th>\n",
       "      <td>13.147500</td>\n",
       "      <td>12.785000</td>\n",
       "      <td>12.842500</td>\n",
       "      <td>13.000000</td>\n",
       "      <td>5410800.0</td>\n",
       "      <td>13.000000</td>\n",
       "    </tr>\n",
       "    <tr>\n",
       "      <th>2017-11-16</th>\n",
       "      <td>13.290000</td>\n",
       "      <td>12.867500</td>\n",
       "      <td>13.062500</td>\n",
       "      <td>13.255000</td>\n",
       "      <td>3868000.0</td>\n",
       "      <td>13.255000</td>\n",
       "    </tr>\n",
       "    <tr>\n",
       "      <th>2017-11-17</th>\n",
       "      <td>13.522500</td>\n",
       "      <td>13.050000</td>\n",
       "      <td>13.240000</td>\n",
       "      <td>13.502500</td>\n",
       "      <td>6152800.0</td>\n",
       "      <td>13.502500</td>\n",
       "    </tr>\n",
       "    <tr>\n",
       "      <th>...</th>\n",
       "      <th>...</th>\n",
       "      <td>...</td>\n",
       "      <td>...</td>\n",
       "      <td>...</td>\n",
       "      <td>...</td>\n",
       "      <td>...</td>\n",
       "      <td>...</td>\n",
       "    </tr>\n",
       "    <tr>\n",
       "      <th rowspan=\"5\" valign=\"top\">TSN</th>\n",
       "      <th>2022-11-07</th>\n",
       "      <td>68.019997</td>\n",
       "      <td>66.029999</td>\n",
       "      <td>67.480003</td>\n",
       "      <td>67.260002</td>\n",
       "      <td>4330600.0</td>\n",
       "      <td>67.260002</td>\n",
       "    </tr>\n",
       "    <tr>\n",
       "      <th>2022-11-08</th>\n",
       "      <td>68.669998</td>\n",
       "      <td>67.070000</td>\n",
       "      <td>67.309998</td>\n",
       "      <td>67.730003</td>\n",
       "      <td>2103700.0</td>\n",
       "      <td>67.730003</td>\n",
       "    </tr>\n",
       "    <tr>\n",
       "      <th>2022-11-09</th>\n",
       "      <td>66.110001</td>\n",
       "      <td>63.619999</td>\n",
       "      <td>65.519997</td>\n",
       "      <td>64.110001</td>\n",
       "      <td>5160700.0</td>\n",
       "      <td>64.110001</td>\n",
       "    </tr>\n",
       "    <tr>\n",
       "      <th>2022-11-10</th>\n",
       "      <td>66.879997</td>\n",
       "      <td>65.290001</td>\n",
       "      <td>65.610001</td>\n",
       "      <td>66.459999</td>\n",
       "      <td>4080200.0</td>\n",
       "      <td>66.459999</td>\n",
       "    </tr>\n",
       "    <tr>\n",
       "      <th>2022-11-11</th>\n",
       "      <td>67.519997</td>\n",
       "      <td>65.580002</td>\n",
       "      <td>66.559998</td>\n",
       "      <td>67.410004</td>\n",
       "      <td>4794100.0</td>\n",
       "      <td>67.410004</td>\n",
       "    </tr>\n",
       "  </tbody>\n",
       "</table>\n",
       "<p>3776 rows × 6 columns</p>\n",
       "</div>"
      ],
      "text/plain": [
       "                         High        Low       Open      Close     Volume  \\\n",
       "Company Date                                                                \n",
       "DXCM    2017-11-13  12.977500  12.522500  12.582500  12.887500  4707200.0   \n",
       "        2017-11-14  13.110000  12.637500  12.890000  12.887500  7096400.0   \n",
       "        2017-11-15  13.147500  12.785000  12.842500  13.000000  5410800.0   \n",
       "        2017-11-16  13.290000  12.867500  13.062500  13.255000  3868000.0   \n",
       "        2017-11-17  13.522500  13.050000  13.240000  13.502500  6152800.0   \n",
       "...                       ...        ...        ...        ...        ...   \n",
       "TSN     2022-11-07  68.019997  66.029999  67.480003  67.260002  4330600.0   \n",
       "        2022-11-08  68.669998  67.070000  67.309998  67.730003  2103700.0   \n",
       "        2022-11-09  66.110001  63.619999  65.519997  64.110001  5160700.0   \n",
       "        2022-11-10  66.879997  65.290001  65.610001  66.459999  4080200.0   \n",
       "        2022-11-11  67.519997  65.580002  66.559998  67.410004  4794100.0   \n",
       "\n",
       "                    Adj Close  \n",
       "Company Date                   \n",
       "DXCM    2017-11-13  12.887500  \n",
       "        2017-11-14  12.887500  \n",
       "        2017-11-15  13.000000  \n",
       "        2017-11-16  13.255000  \n",
       "        2017-11-17  13.502500  \n",
       "...                       ...  \n",
       "TSN     2022-11-07  67.260002  \n",
       "        2022-11-08  67.730003  \n",
       "        2022-11-09  64.110001  \n",
       "        2022-11-10  66.459999  \n",
       "        2022-11-11  67.410004  \n",
       "\n",
       "[3776 rows x 6 columns]"
      ]
     },
     "execution_count": 164,
     "metadata": {},
     "output_type": "execute_result"
    }
   ],
   "source": [
    "data = pd.concat([dxcm,trgp,tsn], keys=['DXCM','TRGP','TSN'], names=['Company'])\n",
    "data"
   ]
  },
  {
   "attachments": {},
   "cell_type": "markdown",
   "id": "709ca412-597b-45a8-8922-8417e9455542",
   "metadata": {},
   "source": [
    "### Tasks \n",
    "#### 1. Is there a company that has no difference between the Close and Adj Close columns?"
   ]
  },
  {
   "cell_type": "code",
   "execution_count": 165,
   "id": "9f4b5ecd-59b0-4ee3-bb6d-49ecfb3bc552",
   "metadata": {},
   "outputs": [
    {
     "data": {
      "text/html": [
       "<div>\n",
       "<style scoped>\n",
       "    .dataframe tbody tr th:only-of-type {\n",
       "        vertical-align: middle;\n",
       "    }\n",
       "\n",
       "    .dataframe tbody tr th {\n",
       "        vertical-align: top;\n",
       "    }\n",
       "\n",
       "    .dataframe thead th {\n",
       "        text-align: right;\n",
       "    }\n",
       "</style>\n",
       "<table border=\"1\" class=\"dataframe\">\n",
       "  <thead>\n",
       "    <tr style=\"text-align: right;\">\n",
       "      <th></th>\n",
       "      <th>Close_diff</th>\n",
       "    </tr>\n",
       "    <tr>\n",
       "      <th>Company</th>\n",
       "      <th></th>\n",
       "    </tr>\n",
       "  </thead>\n",
       "  <tbody>\n",
       "    <tr>\n",
       "      <th>DXCM</th>\n",
       "      <td>False</td>\n",
       "    </tr>\n",
       "    <tr>\n",
       "      <th>TRGP</th>\n",
       "      <td>True</td>\n",
       "    </tr>\n",
       "    <tr>\n",
       "      <th>TSN</th>\n",
       "      <td>True</td>\n",
       "    </tr>\n",
       "  </tbody>\n",
       "</table>\n",
       "</div>"
      ],
      "text/plain": [
       "         Close_diff\n",
       "Company            \n",
       "DXCM          False\n",
       "TRGP           True\n",
       "TSN            True"
      ]
     },
     "execution_count": 165,
     "metadata": {},
     "output_type": "execute_result"
    }
   ],
   "source": [
    "data['Close_diff'] = (data['Close'] - data['Adj Close']).round(decimals=4)\n",
    "data\n",
    "pd.DataFrame(data.groupby(\"Company\")['Close_diff'].apply(lambda x: (x != 0).any()))"
   ]
  },
  {
   "attachments": {},
   "cell_type": "markdown",
   "id": "d6a3bd0e-4c8a-45a4-ab39-873d2784f6d8",
   "metadata": {},
   "source": [
    "#### 2. What is the highest and lowest price (Adj Close) each company recorded?"
   ]
  },
  {
   "cell_type": "code",
   "execution_count": 166,
   "id": "57270f8f-f3df-4844-a3cd-83ccdf58de3d",
   "metadata": {},
   "outputs": [
    {
     "data": {
      "text/html": [
       "<div>\n",
       "<style scoped>\n",
       "    .dataframe tbody tr th:only-of-type {\n",
       "        vertical-align: middle;\n",
       "    }\n",
       "\n",
       "    .dataframe tbody tr th {\n",
       "        vertical-align: top;\n",
       "    }\n",
       "\n",
       "    .dataframe thead th {\n",
       "        text-align: right;\n",
       "    }\n",
       "</style>\n",
       "<table border=\"1\" class=\"dataframe\">\n",
       "  <thead>\n",
       "    <tr style=\"text-align: right;\">\n",
       "      <th></th>\n",
       "      <th>max</th>\n",
       "      <th>min</th>\n",
       "    </tr>\n",
       "    <tr>\n",
       "      <th>Company</th>\n",
       "      <th></th>\n",
       "      <th></th>\n",
       "    </tr>\n",
       "  </thead>\n",
       "  <tbody>\n",
       "    <tr>\n",
       "      <th>DXCM</th>\n",
       "      <td>162.815002</td>\n",
       "      <td>12.887500</td>\n",
       "    </tr>\n",
       "    <tr>\n",
       "      <th>TRGP</th>\n",
       "      <td>80.629997</td>\n",
       "      <td>4.560299</td>\n",
       "    </tr>\n",
       "    <tr>\n",
       "      <th>TSN</th>\n",
       "      <td>98.601814</td>\n",
       "      <td>42.083450</td>\n",
       "    </tr>\n",
       "  </tbody>\n",
       "</table>\n",
       "</div>"
      ],
      "text/plain": [
       "                max        min\n",
       "Company                       \n",
       "DXCM     162.815002  12.887500\n",
       "TRGP      80.629997   4.560299\n",
       "TSN       98.601814  42.083450"
      ]
     },
     "execution_count": 166,
     "metadata": {},
     "output_type": "execute_result"
    }
   ],
   "source": [
    "pd.DataFrame(data.groupby('Company')['Adj Close'].agg(['max', 'min']))"
   ]
  },
  {
   "attachments": {},
   "cell_type": "markdown",
   "id": "875f0426-7398-4ab5-9694-2210dd275096",
   "metadata": {},
   "source": [
    "#### Calculate logarithmic returns from Adj Close. For each company report on its, min, man, mean, median of the return distribution"
   ]
  },
  {
   "cell_type": "code",
   "execution_count": 167,
   "id": "8d7286f9-f808-4cff-a8d2-45dffb5d7ebc",
   "metadata": {},
   "outputs": [
    {
     "name": "stderr",
     "output_type": "stream",
     "text": [
      "C:\\Users\\svobo\\AppData\\Local\\Temp\\ipykernel_18664\\4204314931.py:1: FutureWarning: Not prepending group keys to the result index of transform-like apply. In the future, the group keys will be included in the index, regardless of whether the applied function returns a like-indexed object.\n",
      "To preserve the previous behavior, use\n",
      "\n",
      "\t>>> .groupby(..., group_keys=False)\n",
      "\n",
      "To adopt the future behavior and silence this warning, use \n",
      "\n",
      "\t>>> .groupby(..., group_keys=True)\n",
      "  data['Log_diff'] = data.groupby('Company')['Adj Close'].apply(lambda x: pd.Series(x/x.shift(1))).apply(lambda x: np.log(x))\n"
     ]
    },
    {
     "data": {
      "text/html": [
       "<div>\n",
       "<style scoped>\n",
       "    .dataframe tbody tr th:only-of-type {\n",
       "        vertical-align: middle;\n",
       "    }\n",
       "\n",
       "    .dataframe tbody tr th {\n",
       "        vertical-align: top;\n",
       "    }\n",
       "\n",
       "    .dataframe thead th {\n",
       "        text-align: right;\n",
       "    }\n",
       "</style>\n",
       "<table border=\"1\" class=\"dataframe\">\n",
       "  <thead>\n",
       "    <tr style=\"text-align: right;\">\n",
       "      <th></th>\n",
       "      <th>min</th>\n",
       "      <th>max</th>\n",
       "      <th>mean</th>\n",
       "      <th>median</th>\n",
       "    </tr>\n",
       "    <tr>\n",
       "      <th>Company</th>\n",
       "      <th></th>\n",
       "      <th></th>\n",
       "      <th></th>\n",
       "      <th></th>\n",
       "    </tr>\n",
       "  </thead>\n",
       "  <tbody>\n",
       "    <tr>\n",
       "      <th>DXCM</th>\n",
       "      <td>-0.187498</td>\n",
       "      <td>0.267333</td>\n",
       "      <td>0.001746</td>\n",
       "      <td>0.002127</td>\n",
       "    </tr>\n",
       "    <tr>\n",
       "      <th>TRGP</th>\n",
       "      <td>-0.753054</td>\n",
       "      <td>0.300809</td>\n",
       "      <td>0.000609</td>\n",
       "      <td>0.001832</td>\n",
       "    </tr>\n",
       "    <tr>\n",
       "      <th>TSN</th>\n",
       "      <td>-0.153231</td>\n",
       "      <td>0.204593</td>\n",
       "      <td>-0.000008</td>\n",
       "      <td>0.000148</td>\n",
       "    </tr>\n",
       "  </tbody>\n",
       "</table>\n",
       "</div>"
      ],
      "text/plain": [
       "              min       max      mean    median\n",
       "Company                                        \n",
       "DXCM    -0.187498  0.267333  0.001746  0.002127\n",
       "TRGP    -0.753054  0.300809  0.000609  0.001832\n",
       "TSN     -0.153231  0.204593 -0.000008  0.000148"
      ]
     },
     "execution_count": 167,
     "metadata": {},
     "output_type": "execute_result"
    }
   ],
   "source": [
    "data['Log_diff'] = data.groupby('Company')['Adj Close'].apply(lambda x: pd.Series(x/x.shift(1))).apply(lambda x: np.log(x))\n",
    "data.groupby('Company')['Log_diff'].agg(['min','max','mean','median'])"
   ]
  },
  {
   "attachments": {},
   "cell_type": "markdown",
   "id": "bab8d5de-ed8a-47ad-812b-670f51f67e05",
   "metadata": {},
   "source": [
    "#### When did each company record the highest gain and highest loss for the day?"
   ]
  },
  {
   "cell_type": "code",
   "execution_count": 168,
   "id": "5fb5ae65-0a1e-44a8-a63a-2929d14655b6",
   "metadata": {},
   "outputs": [
    {
     "data": {
      "text/html": [
       "<div>\n",
       "<style scoped>\n",
       "    .dataframe tbody tr th:only-of-type {\n",
       "        vertical-align: middle;\n",
       "    }\n",
       "\n",
       "    .dataframe tbody tr th {\n",
       "        vertical-align: top;\n",
       "    }\n",
       "\n",
       "    .dataframe thead th {\n",
       "        text-align: right;\n",
       "    }\n",
       "</style>\n",
       "<table border=\"1\" class=\"dataframe\">\n",
       "  <thead>\n",
       "    <tr style=\"text-align: right;\">\n",
       "      <th></th>\n",
       "      <th>Max return</th>\n",
       "      <th>Min return</th>\n",
       "    </tr>\n",
       "    <tr>\n",
       "      <th>Company</th>\n",
       "      <th></th>\n",
       "      <th></th>\n",
       "    </tr>\n",
       "  </thead>\n",
       "  <tbody>\n",
       "    <tr>\n",
       "      <th>DXCM</th>\n",
       "      <td>(DXCM, 2018-08-02 00:00:00)</td>\n",
       "      <td>(DXCM, 2020-03-16 00:00:00)</td>\n",
       "    </tr>\n",
       "    <tr>\n",
       "      <th>TRGP</th>\n",
       "      <td>(TRGP, 2020-03-19 00:00:00)</td>\n",
       "      <td>(TRGP, 2020-03-09 00:00:00)</td>\n",
       "    </tr>\n",
       "    <tr>\n",
       "      <th>TSN</th>\n",
       "      <td>(TSN, 2020-03-19 00:00:00)</td>\n",
       "      <td>(TSN, 2020-03-16 00:00:00)</td>\n",
       "    </tr>\n",
       "  </tbody>\n",
       "</table>\n",
       "</div>"
      ],
      "text/plain": [
       "                          Max return                   Min return\n",
       "Company                                                          \n",
       "DXCM     (DXCM, 2018-08-02 00:00:00)  (DXCM, 2020-03-16 00:00:00)\n",
       "TRGP     (TRGP, 2020-03-19 00:00:00)  (TRGP, 2020-03-09 00:00:00)\n",
       "TSN       (TSN, 2020-03-19 00:00:00)   (TSN, 2020-03-16 00:00:00)"
      ]
     },
     "execution_count": 168,
     "metadata": {},
     "output_type": "execute_result"
    }
   ],
   "source": [
    "data.groupby('Company')['Log_diff'].agg(['idxmax','idxmin']).rename(columns={'idxmax':'Max return','idxmin':'Min return'})"
   ]
  },
  {
   "attachments": {},
   "cell_type": "markdown",
   "id": "a023e206-febc-4033-817a-8cd487be630f",
   "metadata": {},
   "source": [
    "#### What is the average calendar weekly volume for each company?"
   ]
  },
  {
   "cell_type": "code",
   "execution_count": 192,
   "id": "432dc48c-ce02-4941-b775-a436dc06ec74",
   "metadata": {},
   "outputs": [
    {
     "data": {
      "text/plain": [
       "Company  Date      \n",
       "DXCM     2017-11-19     5447040.0\n",
       "         2017-11-26     4851100.0\n",
       "         2017-12-03    11231040.0\n",
       "         2017-12-10     5642480.0\n",
       "         2017-12-17     5713120.0\n",
       "                          ...    \n",
       "TSN      2022-10-16     2373480.0\n",
       "         2022-10-23     2224520.0\n",
       "         2022-10-30     2715540.0\n",
       "         2022-11-06     1940000.0\n",
       "         2022-11-13     4093860.0\n",
       "Name: Volume, Length: 783, dtype: float64"
      ]
     },
     "execution_count": 192,
     "metadata": {},
     "output_type": "execute_result"
    }
   ],
   "source": [
    "data.groupby(['Company',pd.Grouper(level='Date',freq='W')])['Volume'].mean()"
   ]
  },
  {
   "attachments": {},
   "cell_type": "markdown",
   "id": "3e383c7f-4fba-4b4d-9357-c96780858362",
   "metadata": {},
   "source": [
    "#### Which company recorded the highest total return over the whole period?"
   ]
  },
  {
   "cell_type": "code",
   "execution_count": 204,
   "id": "b2e0c452-2931-43bf-b352-63b83c9b5398",
   "metadata": {},
   "outputs": [
    {
     "data": {
      "text/plain": [
       "Company\n",
       "DXCM    103.072499\n",
       "TRGP     38.854652\n",
       "TSN      -0.661842\n",
       "Name: Adj Close, dtype: float64"
      ]
     },
     "execution_count": 204,
     "metadata": {},
     "output_type": "execute_result"
    }
   ],
   "source": [
    "data.groupby('Company')['Adj Close'].agg(lambda x: x.iloc[-1] - x.iloc[0])"
   ]
  },
  {
   "attachments": {},
   "cell_type": "markdown",
   "id": "f65f8abf-9b15-4b59-bdcc-26fda16d4a22",
   "metadata": {},
   "source": [
    "#### Plot log-returns"
   ]
  },
  {
   "cell_type": "code",
   "execution_count": 219,
   "id": "959d25f5",
   "metadata": {},
   "outputs": [
    {
     "data": {
      "image/png": "[encoded data removed]",
      "text/plain": [
       "<Figure size 640x480 with 1 Axes>"
      ]
     },
     "metadata": {},
     "output_type": "display_data"
    }
   ],
   "source": [
    "companies = ['DXCM','TRGP','TSN']\n",
    "\n",
    "for company in companies:\n",
    "    graph = data.loc[company,'Log_diff'].plot()\n",
    "    graph.set_title('Log returns')"
   ]
  },
  {
   "attachments": {},
   "cell_type": "markdown",
   "id": "a0736428-cf38-4080-ac27-c44927ad65eb",
   "metadata": {},
   "source": [
    "#### Plot distribution"
   ]
  },
  {
   "cell_type": "code",
   "execution_count": null,
   "id": "220ea453-9f35-469d-9dd3-711a88e2194c",
   "metadata": {},
   "outputs": [],
   "source": []
  },
  {
   "attachments": {},
   "cell_type": "markdown",
   "id": "be7c4de1-c345-4124-a5c3-7e12ac7e5f8c",
   "metadata": {},
   "source": [
    "### Task 3"
   ]
  },
  {
   "cell_type": "code",
   "execution_count": null,
   "id": "2ac8610a-78a2-45d6-a0a6-b92d04f7155d",
   "metadata": {},
   "outputs": [],
   "source": []
  },
  {
   "attachments": {},
   "cell_type": "markdown",
   "id": "68f7c359-3704-4525-86ca-aa8713c6bc1a",
   "metadata": {
    "tags": []
   },
   "source": [
    "#### Find out how many companies do not filled-in the date of inclusion (column “included”) to S&P 500"
   ]
  },
  {
   "cell_type": "code",
   "execution_count": null,
   "id": "1e6689a6-9da4-4180-9b8a-d342474466d9",
   "metadata": {},
   "outputs": [],
   "source": []
  },
  {
   "attachments": {},
   "cell_type": "markdown",
   "id": "41b18479-75c6-4bd6-97ec-d32ddd621e5b",
   "metadata": {
    "tags": []
   },
   "source": [
    "#### Calculate which company is the oldest/youngest constituent and tell us the average age of a constituent in the sample."
   ]
  },
  {
   "cell_type": "code",
   "execution_count": null,
   "id": "170882e8-01de-4dae-b2a0-07bb5340d72e",
   "metadata": {},
   "outputs": [],
   "source": []
  },
  {
   "cell_type": "code",
   "execution_count": null,
   "id": "343a488a-d249-4f15-b7d3-ca58c3b6c8c3",
   "metadata": {},
   "outputs": [],
   "source": []
  },
  {
   "cell_type": "code",
   "execution_count": null,
   "id": "b191b0d4-b84a-4e8c-8579-0430f0c1b927",
   "metadata": {},
   "outputs": [],
   "source": []
  },
  {
   "attachments": {},
   "cell_type": "markdown",
   "id": "d7a8a0b1-7054-4c16-af3a-7b398237ab1b",
   "metadata": {},
   "source": [
    "#### Describe the distribution of companies across sectors"
   ]
  },
  {
   "cell_type": "code",
   "execution_count": null,
   "id": "5f6f108b-c816-4f32-84fb-03756507c638",
   "metadata": {},
   "outputs": [],
   "source": []
  },
  {
   "attachments": {},
   "cell_type": "markdown",
   "id": "45d3379f-a44c-4111-8172-f1be45ebfeff",
   "metadata": {},
   "source": [
    "#### Parse the “hq” column, extract the state of the hq and describe the distribution of the states"
   ]
  },
  {
   "cell_type": "code",
   "execution_count": null,
   "id": "61eb3efd-9228-4df4-8ae6-6ac954ef984a",
   "metadata": {},
   "outputs": [],
   "source": []
  },
  {
   "attachments": {},
   "cell_type": "markdown",
   "id": "4f909d22-7168-45e7-9f4a-9b16c9aefccf",
   "metadata": {},
   "source": [
    "#### Report on distribution of subindustries for the “Consumer Discretionary” GICS sector."
   ]
  },
  {
   "cell_type": "code",
   "execution_count": null,
   "id": "84b63d65-331b-4938-ae68-0d58edffc7a8",
   "metadata": {},
   "outputs": [],
   "source": []
  },
  {
   "cell_type": "code",
   "execution_count": null,
   "id": "658c158c-61eb-4e08-b4a8-6b2cd0c5b0f4",
   "metadata": {},
   "outputs": [],
   "source": []
  },
  {
   "cell_type": "code",
   "execution_count": null,
   "id": "b05eb3aa-b673-40ad-ab20-157423db388c",
   "metadata": {},
   "outputs": [],
   "source": []
  },
  {
   "cell_type": "code",
   "execution_count": null,
   "id": "00d128f8-6447-42c2-9678-b269acac79d5",
   "metadata": {},
   "outputs": [],
   "source": []
  }
 ],
 "metadata": {
  "kernelspec": {
   "display_name": "Python 3",
   "language": "python",
   "name": "python3"
  },
  "language_info": {
   "codemirror_mode": {
    "name": "ipython",
    "version": 3
   },
   "file_extension": ".py",
   "mimetype": "text/x-python",
   "name": "python",
   "nbconvert_exporter": "python",
   "pygments_lexer": "ipython3",
   "version": "3.11.2"
  }
 },
 "nbformat": 4,
 "nbformat_minor": 5
}
