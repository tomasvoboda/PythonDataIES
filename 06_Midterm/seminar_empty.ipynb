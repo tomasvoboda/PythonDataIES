{
 "cells": [
  {
   "cell_type": "code",
   "execution_count": null,
   "id": "b7744c41-1d85-412f-bd29-d2a88d4a4b61",
   "metadata": {},
   "outputs": [],
   "source": [
    "import zipfile\n",
    "import numpy as np\n",
    "import pandas as pd"
   ]
  },
  {
   "cell_type": "markdown",
   "id": "846433d6-8952-4eb1-a1de-7cfb0e7c9293",
   "metadata": {},
   "source": [
    "## 1. Load the data"
   ]
  },
  {
   "cell_type": "markdown",
   "id": "1b22eae0-008a-4486-9dba-3fc7b0fa169f",
   "metadata": {},
   "source": [
    "### 1a. Explore the file structure of CSV file"
   ]
  },
  {
   "cell_type": "code",
   "execution_count": null,
   "id": "7c25c97e-55a2-47c6-9935-7f40bb14c737",
   "metadata": {},
   "outputs": [],
   "source": []
  },
  {
   "cell_type": "markdown",
   "id": "fc6922d5-a5e3-4001-acd1-33598e5b2881",
   "metadata": {},
   "source": [
    "### 1b. Explore the structure of one CSV"
   ]
  },
  {
   "cell_type": "code",
   "execution_count": null,
   "id": "882f599b-83f6-4147-b7c5-032a8022d54f",
   "metadata": {},
   "outputs": [],
   "source": []
  },
  {
   "cell_type": "markdown",
   "id": "68b3b0dc-b4a8-4ee6-9ba3-ddfe7894568b",
   "metadata": {},
   "source": [
    "### 1c. Try another one"
   ]
  },
  {
   "cell_type": "code",
   "execution_count": null,
   "id": "ae0294d3-218c-48b5-b522-5589175a5126",
   "metadata": {},
   "outputs": [],
   "source": []
  },
  {
   "cell_type": "markdown",
   "id": "02ecdb84-b8bd-4377-a86d-b863a6a0399f",
   "metadata": {},
   "source": [
    "### 1d. Load all files into a single df\n",
    "* Remember keeping track of the analyzed company!\n",
    "* Beware dtypes!\n",
    "* What should be the index?"
   ]
  },
  {
   "cell_type": "code",
   "execution_count": null,
   "id": "3feff270-7d28-4324-aded-8e38c489bdce",
   "metadata": {},
   "outputs": [],
   "source": []
  },
  {
   "cell_type": "markdown",
   "id": "709ca412-597b-45a8-8922-8417e9455542",
   "metadata": {},
   "source": [
    "### Tasks \n",
    "#### 1. Is there a company that has no difference between the Close and Adj Close columns?"
   ]
  },
  {
   "cell_type": "code",
   "execution_count": null,
   "id": "9f4b5ecd-59b0-4ee3-bb6d-49ecfb3bc552",
   "metadata": {},
   "outputs": [],
   "source": []
  },
  {
   "cell_type": "markdown",
   "id": "d6a3bd0e-4c8a-45a4-ab39-873d2784f6d8",
   "metadata": {},
   "source": [
    "#### 2. What is the highest and lowest price (Adj Close) each company recorded?"
   ]
  },
  {
   "cell_type": "code",
   "execution_count": null,
   "id": "57270f8f-f3df-4844-a3cd-83ccdf58de3d",
   "metadata": {},
   "outputs": [],
   "source": []
  },
  {
   "cell_type": "markdown",
   "id": "875f0426-7398-4ab5-9694-2210dd275096",
   "metadata": {},
   "source": [
    "#### Calculate logarithmic returns from Adj Close. For each company report on its, min, man, mean, median of the return distribution"
   ]
  },
  {
   "cell_type": "code",
   "execution_count": null,
   "id": "8d7286f9-f808-4cff-a8d2-45dffb5d7ebc",
   "metadata": {},
   "outputs": [],
   "source": []
  },
  {
   "cell_type": "markdown",
   "id": "bab8d5de-ed8a-47ad-812b-670f51f67e05",
   "metadata": {},
   "source": [
    "#### When did each company record the highest gain and highest loss for the day?"
   ]
  },
  {
   "cell_type": "code",
   "execution_count": null,
   "id": "5fb5ae65-0a1e-44a8-a63a-2929d14655b6",
   "metadata": {},
   "outputs": [],
   "source": []
  },
  {
   "cell_type": "markdown",
   "id": "a023e206-febc-4033-817a-8cd487be630f",
   "metadata": {},
   "source": [
    "#### What is the average calendar weekly volume for each company?"
   ]
  },
  {
   "cell_type": "code",
   "execution_count": null,
   "id": "432dc48c-ce02-4941-b775-a436dc06ec74",
   "metadata": {},
   "outputs": [],
   "source": []
  },
  {
   "cell_type": "markdown",
   "id": "3e383c7f-4fba-4b4d-9357-c96780858362",
   "metadata": {},
   "source": [
    "#### Which company recorded the highest total return over the whole period?"
   ]
  },
  {
   "cell_type": "code",
   "execution_count": null,
   "id": "b2e0c452-2931-43bf-b352-63b83c9b5398",
   "metadata": {},
   "outputs": [],
   "source": []
  },
  {
   "cell_type": "markdown",
   "id": "f65f8abf-9b15-4b59-bdcc-26fda16d4a22",
   "metadata": {},
   "source": [
    "#### Plot log-returns"
   ]
  },
  {
   "cell_type": "code",
   "execution_count": null,
   "id": "26dee681-0d0d-450e-9d36-e7322b2b7324",
   "metadata": {},
   "outputs": [],
   "source": []
  },
  {
   "cell_type": "markdown",
   "id": "a0736428-cf38-4080-ac27-c44927ad65eb",
   "metadata": {},
   "source": [
    "#### Plot distribution"
   ]
  },
  {
   "cell_type": "code",
   "execution_count": null,
   "id": "220ea453-9f35-469d-9dd3-711a88e2194c",
   "metadata": {},
   "outputs": [],
   "source": []
  },
  {
   "cell_type": "markdown",
   "id": "be7c4de1-c345-4124-a5c3-7e12ac7e5f8c",
   "metadata": {},
   "source": [
    "### Task 3"
   ]
  },
  {
   "cell_type": "code",
   "execution_count": null,
   "id": "2ac8610a-78a2-45d6-a0a6-b92d04f7155d",
   "metadata": {},
   "outputs": [],
   "source": []
  },
  {
   "cell_type": "markdown",
   "id": "68f7c359-3704-4525-86ca-aa8713c6bc1a",
   "metadata": {
    "tags": []
   },
   "source": [
    "#### Find out how many companies do not filled-in the date of inclusion (column “included”) to S&P 500"
   ]
  },
  {
   "cell_type": "code",
   "execution_count": null,
   "id": "1e6689a6-9da4-4180-9b8a-d342474466d9",
   "metadata": {},
   "outputs": [],
   "source": []
  },
  {
   "cell_type": "markdown",
   "id": "41b18479-75c6-4bd6-97ec-d32ddd621e5b",
   "metadata": {
    "tags": []
   },
   "source": [
    "#### Calculate which company is the oldest/youngest constituent and tell us the average age of a constituent in the sample."
   ]
  },
  {
   "cell_type": "code",
   "execution_count": null,
   "id": "170882e8-01de-4dae-b2a0-07bb5340d72e",
   "metadata": {},
   "outputs": [],
   "source": []
  },
  {
   "cell_type": "code",
   "execution_count": null,
   "id": "343a488a-d249-4f15-b7d3-ca58c3b6c8c3",
   "metadata": {},
   "outputs": [],
   "source": []
  },
  {
   "cell_type": "code",
   "execution_count": null,
   "id": "b191b0d4-b84a-4e8c-8579-0430f0c1b927",
   "metadata": {},
   "outputs": [],
   "source": []
  },
  {
   "cell_type": "markdown",
   "id": "d7a8a0b1-7054-4c16-af3a-7b398237ab1b",
   "metadata": {},
   "source": [
    "#### Describe the distribution of companies across sectors"
   ]
  },
  {
   "cell_type": "code",
   "execution_count": null,
   "id": "5f6f108b-c816-4f32-84fb-03756507c638",
   "metadata": {},
   "outputs": [],
   "source": []
  },
  {
   "cell_type": "markdown",
   "id": "45d3379f-a44c-4111-8172-f1be45ebfeff",
   "metadata": {},
   "source": [
    "#### Parse the “hq” column, extract the state of the hq and describe the distribution of the states"
   ]
  },
  {
   "cell_type": "code",
   "execution_count": null,
   "id": "61eb3efd-9228-4df4-8ae6-6ac954ef984a",
   "metadata": {},
   "outputs": [],
   "source": []
  },
  {
   "cell_type": "markdown",
   "id": "4f909d22-7168-45e7-9f4a-9b16c9aefccf",
   "metadata": {},
   "source": [
    "#### Report on distribution of subindustries for the “Consumer Discretionary” GICS sector."
   ]
  },
  {
   "cell_type": "code",
   "execution_count": null,
   "id": "84b63d65-331b-4938-ae68-0d58edffc7a8",
   "metadata": {},
   "outputs": [],
   "source": []
  },
  {
   "cell_type": "code",
   "execution_count": null,
   "id": "658c158c-61eb-4e08-b4a8-6b2cd0c5b0f4",
   "metadata": {},
   "outputs": [],
   "source": []
  },
  {
   "cell_type": "code",
   "execution_count": null,
   "id": "b05eb3aa-b673-40ad-ab20-157423db388c",
   "metadata": {},
   "outputs": [],
   "source": []
  },
  {
   "cell_type": "code",
   "execution_count": null,
   "id": "00d128f8-6447-42c2-9678-b269acac79d5",
   "metadata": {},
   "outputs": [],
   "source": []
  }
 ],
 "metadata": {
  "kernelspec": {
   "display_name": "Python 3.8 - AzureML",
   "language": "python",
   "name": "python38-azureml"
  },
  "language_info": {
   "codemirror_mode": {
    "name": "ipython",
    "version": 3
   },
   "file_extension": ".py",
   "mimetype": "text/x-python",
   "name": "python",
   "nbconvert_exporter": "python",
   "pygments_lexer": "ipython3",
   "version": "3.8.10"
  }
 },
 "nbformat": 4,
 "nbformat_minor": 5
}
