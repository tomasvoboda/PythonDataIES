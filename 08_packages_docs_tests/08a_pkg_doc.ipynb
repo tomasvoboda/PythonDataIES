{
 "cells": [
  {
   "attachments": {},
   "cell_type": "markdown",
   "metadata": {},
   "source": [
    "# Lecture 8\n",
    "\n",
    "4.4.2023\n",
    "\n",
    "by **Martin Hronec** \n",
    "\n",
    "Contents:\n",
    "1. [How to structure your projects](#Repository-structure)\n",
    "2. [Python packaging](#Packaging)\n",
    "3. [Documentation](#Documentation)\n"
   ]
  },
  {
   "cell_type": "markdown",
   "metadata": {},
   "source": [
    "\n",
    "## Repository structure\n",
    "\n",
    "* “structure” means making clean code whose logic and dependencies are clear as well as how the files and folders are organized in the filesystem\n",
    "\n",
    "* a repository template:\n",
    "\n",
    "    ```\n",
    "    README.md\n",
    "    LICENSE\n",
    "    setup.py\n",
    "    requirements.txt\n",
    "    app/__init__.py\n",
    "    app/main.py\n",
    "    app/helpers.py\n",
    "    docs/conf.py\n",
    "    docs/index.rst\n",
    "    tests/test_basic.py\n",
    "    tests/test_advanced.py\n",
    "    data/\n",
    "    .gitignore ```\n",
    "    \n",
    "* `./app/`\n",
    "    * module package (if module consists of only a single file, it can be placed in the root of your repository\n",
    "    ( `./sample.py`)\n",
    "* `./LICENSE`\n",
    "    * the full license text and copyright claims\n",
    "    * you are also free to publish code without a license, but this would prevent many people from potentially using or contributing to your code\n",
    "    * more on licenses [here](https://choosealicense.com/licenses/)\n",
    "* `./setup.py`\n",
    "    * package and distribution management\n",
    "    * more in [the next section](#Packaging)\n",
    "* `./requirements.txt`\n",
    "    * a pip requirements file\n",
    "    * should be placed at the root of the repository\n",
    "    * should specify the dependencies required to contribute to the project (testing, building, and generating documentation)\n",
    "* `./docs/`\n",
    "    * package reference documentation\n",
    "    * more in [the documentation section](#Documentation)\n",
    "* `./tests/`\n",
    "\n",
    "    * more in [the testing section](#Tests)\n",
    "* `./Makefile`\n",
    "    * for generic management tasks\n",
    "    * other generic management scrips (e.g. `manage.py`) belong at the root of the repository as well"
   ]
  },
  {
   "cell_type": "markdown",
   "metadata": {},
   "source": [
    "## Packaging \n",
    "\n",
    "* why packaging?\n",
    "    * because we want modular programming\n",
    "    \n",
    "* why modularing (modules)?\n",
    "    * simplicity\n",
    "    * maintainability\n",
    "    * reusability\n",
    "    * scoping - separate namespace\n",
    "\n",
    "* functions, modules and packages already offer modularization\n",
    "\n",
    "* Python is a general-purpose programming language => can be used in many ways\n",
    "    * scientific computing\n",
    "    * websites\n",
    "    * scraping, etc.\n",
    "    \n",
    "* this flexibility is the reason you need to think about:\n",
    "    * the project's customers/users\n",
    "    * the environment where the project will run\n",
    "\n",
    "* not necessary bad idea to think about packaging before starting to code\n",
    "* what is a package? ... a collection of:\n",
    "    * modules \n",
    "    * documentation\n",
    "    * tests\n",
    "    * tools to build and install it, etc. \n",
    "\n",
    "### Deployment \n",
    "* projects (packages) exist to be deployed (installed)\n",
    "* before you package anything, ask questions like:\n",
    "\n",
    "    * who are your users?  (software (python) developers, business people)\n",
    "    * where will your software run? (servers, desktops, mobiles)\n",
    "    * how is your software deployed? (part of the large software stack, individually, etc.)\n",
    "* packaging libraries and tools (technical audience) vs. packaging applications (non-technical audience)\n",
    "\n",
    "### Packaging libraries and tools\n",
    "\n",
    "* you've probably heard about PyPI, `setup.py` and [wheels](https://pythonwheels.com/) \n",
    "\n",
    "* **modules**\n",
    "    * simply a python file - can be distributed \n",
    "        * care about the right version of Python (and only relies on the standard library)\n",
    "    * great for sharing simple scripts and snippets (email, StackOverflow, [GitHub gists](https://gist.github.com/)\n",
    "    * ! this does not scale for projects with multiple files, need additional libraries or specific Python versions\n",
    "\n",
    "* let's look at what's going on with modules\n",
    "    * look at the objects defined in example_module.py (below)\n",
    "        * text (string)\n",
    "        * f (function)\n",
    "        * AClass (class)"
   ]
  },
  {
   "cell_type": "code",
   "execution_count": 1,
   "metadata": {},
   "outputs": [],
   "source": [
    "# %load example_module.py\n",
    "text = \"modularity is the key\"\n",
    "\n",
    "def f(arg):\n",
    "    print(f'This function takes as an argument: {arg}')\n",
    "\n",
    "class AClass:\n",
    "    pass"
   ]
  },
  {
   "cell_type": "markdown",
   "metadata": {},
   "source": [
    "* (if example_module.py is in appropriate location) these objects can be imported using `import` call in python\n",
    "    * (delete them before trying with import)"
   ]
  },
  {
   "cell_type": "code",
   "execution_count": 2,
   "metadata": {},
   "outputs": [],
   "source": [
    "del AClass, f, text"
   ]
  },
  {
   "cell_type": "code",
   "execution_count": 3,
   "metadata": {},
   "outputs": [
    {
     "ename": "NameError",
     "evalue": "name 'f' is not defined",
     "output_type": "error",
     "traceback": [
      "\u001b[1;31m---------------------------------------------------------------------------\u001b[0m",
      "\u001b[1;31mNameError\u001b[0m                                 Traceback (most recent call last)",
      "Cell \u001b[1;32mIn [3], line 1\u001b[0m\n\u001b[1;32m----> 1\u001b[0m \u001b[43mf\u001b[49m\n",
      "\u001b[1;31mNameError\u001b[0m: name 'f' is not defined"
     ]
    }
   ],
   "source": [
    "f"
   ]
  },
  {
   "cell_type": "code",
   "execution_count": 4,
   "metadata": {},
   "outputs": [],
   "source": [
    "import example_module"
   ]
  },
  {
   "cell_type": "code",
   "execution_count": 5,
   "metadata": {},
   "outputs": [
    {
     "data": {
      "text/plain": [
       "['AClass',\n",
       " '__builtins__',\n",
       " '__cached__',\n",
       " '__doc__',\n",
       " '__file__',\n",
       " '__loader__',\n",
       " '__name__',\n",
       " '__package__',\n",
       " '__spec__',\n",
       " 'f',\n",
       " 'text']"
      ]
     },
     "execution_count": 5,
     "metadata": {},
     "output_type": "execute_result"
    }
   ],
   "source": [
    "dir(example_module)"
   ]
  },
  {
   "cell_type": "code",
   "execution_count": 7,
   "metadata": {},
   "outputs": [
    {
     "data": {
      "text/plain": [
       "'modularity is the key'"
      ]
     },
     "execution_count": 7,
     "metadata": {},
     "output_type": "execute_result"
    }
   ],
   "source": [
    "example_module.text"
   ]
  },
  {
   "cell_type": "markdown",
   "metadata": {},
   "source": [
    "* what happens when the interpreter executes the above `import` statement? \n",
    "* interpreter searches for *example_module.py* in **the module search path** (list of directories ):\n",
    "    * the current working directory\n",
    "    * the list of directories contained in the PYTHONPATH environment variable\n",
    "    * an installation-dependent list of directories configured at the time Python is installed\n",
    "* the resulting search path is accessible in the Python variable `sys.path`"
   ]
  },
  {
   "cell_type": "code",
   "execution_count": 9,
   "metadata": {},
   "outputs": [
    {
     "data": {
      "text/plain": [
       "['c:\\\\Users\\\\Martin Hronec\\\\Projects\\\\phd\\\\teaching\\\\PythonDataIES\\\\08_packages_docs_tests',\n",
       " 'c:\\\\Users\\\\Martin Hronec\\\\AppData\\\\Local\\\\Programs\\\\Python\\\\Python310\\\\python310.zip',\n",
       " 'c:\\\\Users\\\\Martin Hronec\\\\AppData\\\\Local\\\\Programs\\\\Python\\\\Python310\\\\DLLs',\n",
       " 'c:\\\\Users\\\\Martin Hronec\\\\AppData\\\\Local\\\\Programs\\\\Python\\\\Python310\\\\lib',\n",
       " 'c:\\\\Users\\\\Martin Hronec\\\\AppData\\\\Local\\\\Programs\\\\Python\\\\Python310',\n",
       " '',\n",
       " 'C:\\\\Users\\\\Martin Hronec\\\\AppData\\\\Roaming\\\\Python\\\\Python310\\\\site-packages',\n",
       " 'C:\\\\Users\\\\Martin Hronec\\\\AppData\\\\Roaming\\\\Python\\\\Python310\\\\site-packages\\\\win32',\n",
       " 'C:\\\\Users\\\\Martin Hronec\\\\AppData\\\\Roaming\\\\Python\\\\Python310\\\\site-packages\\\\win32\\\\lib',\n",
       " 'C:\\\\Users\\\\Martin Hronec\\\\AppData\\\\Roaming\\\\Python\\\\Python310\\\\site-packages\\\\Pythonwin',\n",
       " 'c:\\\\Users\\\\Martin Hronec\\\\AppData\\\\Local\\\\Programs\\\\Python\\\\Python310\\\\lib\\\\site-packages',\n",
       " 'c:\\\\users\\\\martin hronec\\\\projects\\\\phd\\\\teaching\\\\dd',\n",
       " 'c:\\\\Users\\\\Martin Hronec\\\\AppData\\\\Local\\\\Programs\\\\Python\\\\Python310\\\\lib\\\\site-packages\\\\redata-0.1-py3.10.egg']"
      ]
     },
     "execution_count": 9,
     "metadata": {},
     "output_type": "execute_result"
    }
   ],
   "source": [
    "import sys\n",
    "sys.path"
   ]
  },
  {
   "cell_type": "markdown",
   "metadata": {},
   "source": [
    "* to ensure that your module is found, you need to do one of the following:\n",
    "    * put example_module.py in the directory where the input script is located or the current working directory\n",
    "    * add directory where `example_module.py` is located to PYTHONPATH environment variable \n",
    "    * put example_module.py anywhere you like and modify `sys.path` at runtime so that it contains that directory (see below)"
   ]
  },
  {
   "cell_type": "code",
   "execution_count": 10,
   "metadata": {},
   "outputs": [
    {
     "data": {
      "text/plain": [
       "['c:\\\\Users\\\\Martin Hronec\\\\Projects\\\\phd\\\\teaching\\\\PythonDataIES\\\\08_packages_docs_tests',\n",
       " 'c:\\\\Users\\\\Martin Hronec\\\\AppData\\\\Local\\\\Programs\\\\Python\\\\Python310\\\\python310.zip',\n",
       " 'c:\\\\Users\\\\Martin Hronec\\\\AppData\\\\Local\\\\Programs\\\\Python\\\\Python310\\\\DLLs',\n",
       " 'c:\\\\Users\\\\Martin Hronec\\\\AppData\\\\Local\\\\Programs\\\\Python\\\\Python310\\\\lib',\n",
       " 'c:\\\\Users\\\\Martin Hronec\\\\AppData\\\\Local\\\\Programs\\\\Python\\\\Python310',\n",
       " '',\n",
       " 'C:\\\\Users\\\\Martin Hronec\\\\AppData\\\\Roaming\\\\Python\\\\Python310\\\\site-packages',\n",
       " 'C:\\\\Users\\\\Martin Hronec\\\\AppData\\\\Roaming\\\\Python\\\\Python310\\\\site-packages\\\\win32',\n",
       " 'C:\\\\Users\\\\Martin Hronec\\\\AppData\\\\Roaming\\\\Python\\\\Python310\\\\site-packages\\\\win32\\\\lib',\n",
       " 'C:\\\\Users\\\\Martin Hronec\\\\AppData\\\\Roaming\\\\Python\\\\Python310\\\\site-packages\\\\Pythonwin',\n",
       " 'c:\\\\Users\\\\Martin Hronec\\\\AppData\\\\Local\\\\Programs\\\\Python\\\\Python310\\\\lib\\\\site-packages',\n",
       " 'c:\\\\users\\\\martin hronec\\\\projects\\\\phd\\\\teaching\\\\dd',\n",
       " 'c:\\\\Users\\\\Martin Hronec\\\\AppData\\\\Local\\\\Programs\\\\Python\\\\Python310\\\\lib\\\\site-packages\\\\redata-0.1-py3.10.egg',\n",
       " 'C:\\\\Users\\\\Martin Hronec\\\\Projects']"
      ]
     },
     "execution_count": 10,
     "metadata": {},
     "output_type": "execute_result"
    }
   ],
   "source": [
    "sys.path.append(r'C:\\Users\\Martin Hronec\\Projects')\n",
    "sys.path"
   ]
  },
  {
   "cell_type": "markdown",
   "metadata": {},
   "source": [
    "* once a module has been imported, you can determine the location where it was found with the module's `__file__` attribute"
   ]
  },
  {
   "cell_type": "code",
   "execution_count": 12,
   "metadata": {},
   "outputs": [
    {
     "data": {
      "text/plain": [
       "'c:\\\\Users\\\\Martin Hronec\\\\Projects\\\\phd\\\\teaching\\\\PythonDataIES\\\\08_packages_docs_tests\\\\example_module.py'"
      ]
     },
     "execution_count": 12,
     "metadata": {},
     "output_type": "execute_result"
    }
   ],
   "source": [
    "import example_module\n",
    "example_module.__file__"
   ]
  },
  {
   "cell_type": "markdown",
   "metadata": {},
   "source": [
    "* possible to do `from <module_name> import *`\n",
    "    * this is not recommended (especially in production code)\n",
    "* also possible to use aliases\n",
    "    * `import pandas as pd` - `pd` is alias\n",
    "* ! modules are loaded only once per session\n",
    "    * if you make a change to a module and need to reload it, you need to either restart the interpreter"
   ]
  },
  {
   "cell_type": "markdown",
   "metadata": {},
   "source": [
    "Continuing with the distribution options you have ...\n",
    "\n",
    "* **PACKAGES**\n",
    "\n",
    "    * a \"package\" is essentially a module with other modules (potentially in it)\n",
    "        *   ↑ number of modules =>   ↑ mess\n",
    "    * packages allow hierarchical structuring of the module namespace\n",
    "\n",
    "* package = a directory with an `__init__.py` and any number of other python files or other package directories\n",
    "    ```\n",
    "    a_package\n",
    "       __init__.py\n",
    "       module_a.py\n",
    "       a_sub_package\n",
    "         __init__.py\n",
    "         module_b.py\n",
    "    ```\n",
    "\n",
    "* `__init__.py` can be empty or not (it will be run when the package is imported)\n",
    "* example project from the Python Packaging Authority (real thing) [here](https://github.com/pypa/sampleproject)"
   ]
  },
  {
   "attachments": {},
   "cell_type": "markdown",
   "metadata": {},
   "source": [
    "### setuptools\n",
    "\n",
    "* `setup.py` tells setuptools how to package, build and install the package\n"
   ]
  },
  {
   "cell_type": "code",
   "execution_count": 15,
   "metadata": {},
   "outputs": [],
   "source": [
    "# %load setup.py\n",
    "from setuptools import setup\n",
    "\n",
    "setup(\n",
    "    name='PackageName',\n",
    "    version='0.1',\n",
    "    author='YoursTruly',\n",
    "    author_email='yourstruly@fsv.cuni.cz',\n",
    "    #packages=['package_name','package_name.test'],\n",
    "    url='',\n",
    "    license='LICENSE.txt',\n",
    "    description='Exemplatory package.',\n",
    "    #long_description=open('README.md').read(),\n",
    "   install_requires=[\n",
    "   \"Django >= 1.1.1\",\n",
    "   \"pytest\",\n",
    "   ],)"
   ]
  },
  {
   "attachments": {},
   "cell_type": "markdown",
   "metadata": {},
   "source": [
    "* with a `setup.py` script, setuptools can:\n",
    "    * build a source distribution `python setup.py sdist`\n",
    "    * build wheels `./setup.py bdist_wheel` (the wheel package needed)\n",
    "    * build from source `python setup.py build`\n",
    "    * install `python setup.py install`\n",
    "    \n",
    "* we can also install in develop/editable mode: `python setup.py develop` or `pip install -e ./`\n",
    "    * your package is installed, but any changes will immediately take effect\n",
    "    * no `sys.path` manipulation!\n",
    "\n",
    "* you can also upload your package to [PyPI](https://pypi.org/)"
   ]
  },
  {
   "cell_type": "markdown",
   "metadata": {},
   "source": [
    "* **Quick exercise**: Create a new package\n",
    "    1. create the basic package structure\n",
    "    2. write a setup.py\n",
    "    3. install the package with a `setup.py`\n",
    "    4. import it from somewhere else"
   ]
  },
  {
   "cell_type": "markdown",
   "metadata": {},
   "source": [
    "* **Notes**:\n",
    "    * for larger projects, it is good idea tu use templates, e.g. from [Cookie Cutter](https://cookiecutter.readthedocs.io/en/latest/)\n",
    "    * quality packaging materials:\n",
    "        * from the Python Packaging authority [here](https://packaging.python.org/)\n",
    "        * [practical tutorial](https://python-packaging-tutorial.readthedocs.io/en/latest/setup_py.html)"
   ]
  },
  {
   "cell_type": "markdown",
   "metadata": {},
   "source": [
    "* **Discussion**: Is data science different?\n",
    "    * https://docs.microsoft.com/en-us/azure/machine-learning/team-data-science-process/overview"
   ]
  },
  {
   "attachments": {},
   "cell_type": "markdown",
   "metadata": {},
   "source": [
    "## Documentation\n",
    "\n",
    "* why documentation?\n",
    "    * let's ask [write-the-docs community](https://www.writethedocs.org/guide/writing/beginners-guide-to-docs/)\n",
    "\n",
    "* write docstrings at minimum:\n",
    "\n",
    "* example from [sphinx](https://sphinxcontrib-napoleon.readthedocs.io/en/latest/example_google.html) below\n"
   ]
  },
  {
   "cell_type": "code",
   "execution_count": 1,
   "metadata": {},
   "outputs": [],
   "source": [
    "def function_with_types_in_docstring(param1, param2):\n",
    "    \"\"\"Example function with types documented in the docstring.\n",
    "\n",
    "    `PEP 484`_ type annotations are supported. If attribute, parameter, and\n",
    "    return types are annotated according to `PEP 484`_, they do not need to be\n",
    "    included in the docstring:\n",
    "\n",
    "    Args:\n",
    "        param1 (int): The first parameter.\n",
    "        param2 (str): The second parameter.\n",
    "\n",
    "    Returns:\n",
    "        bool: The return value. True for success, False otherwise.\n",
    "\n",
    "    .. _PEP 484:\n",
    "        https://www.python.org/dev/peps/pep-0484/\n",
    "\n",
    "    \"\"\"\n",
    "\n",
    "\n",
    "def function_with_pep484_type_annotations(param1: int, param2: str) -> bool:\n",
    "    \"\"\"Example function with PEP 484 type annotations.\n",
    "\n",
    "    Args:\n",
    "        param1: The first parameter.\n",
    "        param2: The second parameter.\n",
    "\n",
    "    Returns:\n",
    "        The return value. True for success, False otherwise.\n",
    "\n",
    "    \"\"\"\n",
    "\n",
    "\n",
    "def module_level_function(param1, param2=None, *args, **kwargs):\n",
    "    \"\"\"This is an example of a module level function.\n",
    "\n",
    "    Function parameters should be documented in the ``Args`` section. The name\n",
    "    of each parameter is required. The type and description of each parameter\n",
    "    is optional, but should be included if not obvious.\n",
    "\n",
    "    If \\*args or \\*\\*kwargs are accepted,\n",
    "    they should be listed as ``*args`` and ``**kwargs``.\n",
    "\n",
    "    The format for a parameter is::\n",
    "\n",
    "        name (type): description\n",
    "            The description may span multiple lines. Following\n",
    "            lines should be indented. The \"(type)\" is optional.\n",
    "\n",
    "            Multiple paragraphs are supported in parameter\n",
    "            descriptions.\n",
    "\n",
    "    Args:\n",
    "        param1 (int): The first parameter.\n",
    "        param2 (:obj:`str`, optional): The second parameter. Defaults to None.\n",
    "            Second line of description should be indented.\n",
    "        *args: Variable length argument list.\n",
    "        **kwargs: Arbitrary keyword arguments.\n",
    "\n",
    "    Returns:\n",
    "        bool: True if successful, False otherwise.\n",
    "\n",
    "        The return type is optional and may be specified at the beginning of\n",
    "        the ``Returns`` section followed by a colon.\n",
    "\n",
    "        The ``Returns`` section may span multiple lines and paragraphs.\n",
    "        Following lines should be indented to match the first line.\n",
    "\n",
    "        The ``Returns`` section supports any reStructuredText formatting,\n",
    "        including literal blocks::\n",
    "\n",
    "            {\n",
    "                'param1': param1,\n",
    "                'param2': param2\n",
    "            }\n",
    "\n",
    "    Raises:\n",
    "        AttributeError: The ``Raises`` section is a list of all exceptions\n",
    "            that are relevant to the interface.\n",
    "        ValueError: If `param2` is equal to `param1`.\n",
    "\n",
    "    \"\"\"\n",
    "    if param1 == param2:\n",
    "        raise ValueError('param1 may not be equal to param2')\n",
    "    return True"
   ]
  },
  {
   "cell_type": "markdown",
   "metadata": {},
   "source": [
    "### mkdocs\n",
    "* nothing wrong with sphinx, however mkdocs more user-friendly -> we will look at the example\n",
    "* if you want to use markdown, look at [mkdocs](https://www.mkdocs.org/)\n",
    "* example config\n",
    "\n",
    "```\n",
    "site_name: example\n",
    "nav:\n",
    "  - \"Home\" : index.md\n",
    "  - \"About\" : about.md\n",
    "  - \"Pipeline\" : pipeline.md\n",
    "\n",
    "docs_dir: docs\n",
    "plugins:\n",
    "    - search\n",
    "    - mkdocstrings:\n",
    "        default_handler : python\n",
    "        handlers:\n",
    "            python:\n",
    "                setup_commands:\n",
    "                - import sys\n",
    "                - sys.path.append(\"app/\")\n",
    "                rendering:\n",
    "                    show_source: true\n",
    "                    show_root_heading: true\n",
    "extra_css:\n",
    "    - stylesheets/extra.css\n",
    "```"
   ]
  },
  {
   "cell_type": "markdown",
   "metadata": {},
   "source": [
    "* **Ex**: build basic docs structure for yourself\n",
    "    * (later) host it on GitHub pages - https://pages.github.com/\n",
    "    "
   ]
  },
  {
   "cell_type": "markdown",
   "metadata": {},
   "source": [
    "### Sphinx\n",
    "\n",
    "* [Sphinx](https://www.sphinx-doc.org/en/master/index.html) is a documentation generator\n",
    "* standard in producing documentation because:\n",
    "    * simple, yet powerfull \n",
    "    * HTML, LaTeX, ePub, plain text output formats\n",
    "    * extensive cross-references - automatic links for functions, classes, citations, etc. \n",
    "    * a lot of extensions\n",
    "* [example projects](https://www.sphinx-doc.org/en/master/examples.html)\n",
    "* it uses [reStructuredText](docutils.sourceforge.net/rst.html) as the markup language ([cheatsheet](https://thomas-cokelaer.info/tutorials/sphinx/rest_syntax.html#restructured-text-rest-and-sphinx-cheatsheet))\n",
    " * see [reStText_example.rst](reStText_example.rst)\n",
    " \n",
    " * how to create documentation:\n",
    "    * `sphinx-quickstart`\n",
    "        * creates a source directory with *conf.py* and a master document, *index.rst.* (+ *Makefile*)\n",
    "        * the master document serves a welcome page and contains the root of the \"table of contents tree\" (or toctree).\n",
    "        * this allows connecting multiple  reStructuredText files to a single hierarchy of documents\n",
    "    * running the build: `sphinx-build -b html <sourcedir> <builddir>`\n",
    "        * or more simply (since we've used `sphinx-quickstart` to initiate the repo - `make html` (uses *Makefile* and *make.bat*)\n",
    "\n",
    "\n",
    "* *conf.py* file controls how Sphinx processes your documents\n",
    "    * just like any other Python script (you can run anything when you want to run Spinx\n",
    "    \n",
    "* `toctree` adds structure to your documentation\n",
    "\n",
    "* **autodoc** (extension)\n",
    "    * inclusion of docstrings from your modules\n",
    "    * to use it, activate it in *conf.py* \n",
    "        `extensions = ['sphinx.ext.autodoc']`\n",
    "        \n",
    "* if you want to use markdown, look at [mkdocs](https://www.mkdocs.org/)"
   ]
  }
 ],
 "metadata": {
  "kernelspec": {
   "display_name": "Python 3.10.7 64-bit",
   "language": "python",
   "name": "python3"
  },
  "language_info": {
   "codemirror_mode": {
    "name": "ipython",
    "version": 3
   },
   "file_extension": ".py",
   "mimetype": "text/x-python",
   "name": "python",
   "nbconvert_exporter": "python",
   "pygments_lexer": "ipython3",
   "version": "3.10.7"
  },
  "vscode": {
   "interpreter": {
    "hash": "1f0e6d99f3103fd78365fe1cf7b2d51239fa0878786db9cbdfe89bc88a3151d3"
   }
  }
 },
 "nbformat": 4,
 "nbformat_minor": 4
}
